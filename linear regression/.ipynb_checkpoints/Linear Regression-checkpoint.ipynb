{
 "cells": [
  {
   "cell_type": "markdown",
   "id": "17678779",
   "metadata": {
    "id": "17678779"
   },
   "source": [
    "# Problem statement\n",
    "\n",
    "Implementation of linear regression using advertising dataset"
   ]
  },
  {
   "cell_type": "code",
   "execution_count": 1,
   "id": "c1ba4922-3949-4065-8d29-38567898c849",
   "metadata": {
    "id": "c1ba4922-3949-4065-8d29-38567898c849",
    "outputId": "3070dcb6-5090-4ca6-b1b4-851844bce226"
   },
   "outputs": [
    {
     "data": {
      "text/plain": [
       "'C:\\\\Users\\\\hp\\\\Downloads\\\\Linear Regression_11Feb'"
      ]
     },
     "execution_count": 1,
     "metadata": {},
     "output_type": "execute_result"
    }
   ],
   "source": [
    "pwd"
   ]
  },
  {
   "cell_type": "code",
   "execution_count": 2,
   "id": "ea3a7e1d",
   "metadata": {
    "id": "ea3a7e1d"
   },
   "outputs": [],
   "source": [
    "# load the necessary libraries\n",
    "import numpy as np\n",
    "import pandas as pd\n",
    "\n",
    "import matplotlib.pyplot as plt\n",
    "import seaborn as sns\n",
    "\n",
    "import warnings\n",
    "warnings.filterwarnings('ignore')\n"
   ]
  },
  {
   "cell_type": "code",
   "execution_count": 1,
   "id": "8b9b6ea4",
   "metadata": {
    "id": "8b9b6ea4"
   },
   "outputs": [
    {
     "ename": "NameError",
     "evalue": "name 'pd' is not defined",
     "output_type": "error",
     "traceback": [
      "\u001b[1;31m---------------------------------------------------------------------------\u001b[0m",
      "\u001b[1;31mNameError\u001b[0m                                 Traceback (most recent call last)",
      "Cell \u001b[1;32mIn[1], line 2\u001b[0m\n\u001b[0;32m      1\u001b[0m \u001b[38;5;66;03m#load the data\u001b[39;00m\n\u001b[1;32m----> 2\u001b[0m data \u001b[38;5;241m=\u001b[39m pd\u001b[38;5;241m.\u001b[39mread_csv(\u001b[38;5;124m'\u001b[39m\u001b[38;5;124mAdvertising.csv\u001b[39m\u001b[38;5;124m'\u001b[39m)\n",
      "\u001b[1;31mNameError\u001b[0m: name 'pd' is not defined"
     ]
    }
   ],
   "source": [
    "#load the data\n",
    "data = pd.read_csv('Advertising.csv')"
   ]
  },
  {
   "cell_type": "code",
   "execution_count": 2,
   "id": "005e6cf0",
   "metadata": {
    "id": "005e6cf0",
    "outputId": "52eb10cc-7db5-4712-b5bf-0a20979d5bb4",
    "scrolled": true
   },
   "outputs": [
    {
     "ename": "NameError",
     "evalue": "name 'data' is not defined",
     "output_type": "error",
     "traceback": [
      "\u001b[1;31m---------------------------------------------------------------------------\u001b[0m",
      "\u001b[1;31mNameError\u001b[0m                                 Traceback (most recent call last)",
      "Cell \u001b[1;32mIn[2], line 1\u001b[0m\n\u001b[1;32m----> 1\u001b[0m data\n",
      "\u001b[1;31mNameError\u001b[0m: name 'data' is not defined"
     ]
    }
   ],
   "source": [
    "data"
   ]
  },
  {
   "cell_type": "markdown",
   "id": "bc241093",
   "metadata": {
    "id": "bc241093"
   },
   "source": [
    "# Domain Analysis\n",
    "\n",
    "1. The data speaks about the amount spent on adversiting in various sector\n",
    "\n",
    "2. Radio, TV and Newspaper are the 3 sectors/ domain\n",
    "\n",
    "3. target is sales, where we are trying to predict the sales done after been advertised"
   ]
  },
  {
   "cell_type": "markdown",
   "id": "c8b09bd5",
   "metadata": {
    "id": "c8b09bd5"
   },
   "source": [
    "# Basic checks"
   ]
  },
  {
   "cell_type": "code",
   "execution_count": 5,
   "id": "7e15b54c",
   "metadata": {
    "id": "7e15b54c",
    "outputId": "1222950c-9b1c-487c-cbd7-93e896c7b31b"
   },
   "outputs": [
    {
     "data": {
      "text/plain": [
       "(200, 5)"
      ]
     },
     "execution_count": 5,
     "metadata": {},
     "output_type": "execute_result"
    }
   ],
   "source": [
    "#shape\n",
    "data.shape\n",
    "# 200 rows and 5 columns"
   ]
  },
  {
   "cell_type": "code",
   "execution_count": 6,
   "id": "10755e30",
   "metadata": {
    "id": "10755e30"
   },
   "outputs": [],
   "source": [
    "#'Unnamed: 0 is giving no significance for predicting the target, we are going to drop it\n",
    "data.drop(columns=['Unnamed: 0'], axis = 1, inplace = True)"
   ]
  },
  {
   "cell_type": "code",
   "execution_count": 7,
   "id": "2f81caa2",
   "metadata": {
    "id": "2f81caa2",
    "outputId": "c69be065-53b4-424b-d9eb-ddfd6e5f32a9"
   },
   "outputs": [
    {
     "data": {
      "text/plain": [
       "(200, 4)"
      ]
     },
     "execution_count": 7,
     "metadata": {},
     "output_type": "execute_result"
    }
   ],
   "source": [
    "data.shape"
   ]
  },
  {
   "cell_type": "code",
   "execution_count": 8,
   "id": "2326caf0",
   "metadata": {
    "id": "2326caf0",
    "outputId": "995fc447-685a-4c94-9f64-c1d174b4df07"
   },
   "outputs": [
    {
     "data": {
      "text/plain": [
       "Index(['TV', 'Radio', 'Newspaper', 'Sales'], dtype='object')"
      ]
     },
     "execution_count": 8,
     "metadata": {},
     "output_type": "execute_result"
    }
   ],
   "source": [
    "data.columns\n",
    "#no renaming is required here"
   ]
  },
  {
   "cell_type": "code",
   "execution_count": 9,
   "id": "e0fa38ec",
   "metadata": {
    "id": "e0fa38ec",
    "outputId": "7f9080c8-f237-4477-e137-b17ef7db7907"
   },
   "outputs": [
    {
     "data": {
      "text/html": [
       "<div>\n",
       "<style scoped>\n",
       "    .dataframe tbody tr th:only-of-type {\n",
       "        vertical-align: middle;\n",
       "    }\n",
       "\n",
       "    .dataframe tbody tr th {\n",
       "        vertical-align: top;\n",
       "    }\n",
       "\n",
       "    .dataframe thead th {\n",
       "        text-align: right;\n",
       "    }\n",
       "</style>\n",
       "<table border=\"1\" class=\"dataframe\">\n",
       "  <thead>\n",
       "    <tr style=\"text-align: right;\">\n",
       "      <th></th>\n",
       "      <th>TV</th>\n",
       "      <th>Radio</th>\n",
       "      <th>Newspaper</th>\n",
       "      <th>Sales</th>\n",
       "    </tr>\n",
       "  </thead>\n",
       "  <tbody>\n",
       "    <tr>\n",
       "      <th>0</th>\n",
       "      <td>230.1</td>\n",
       "      <td>37.8</td>\n",
       "      <td>69.2</td>\n",
       "      <td>22.1</td>\n",
       "    </tr>\n",
       "    <tr>\n",
       "      <th>1</th>\n",
       "      <td>44.5</td>\n",
       "      <td>39.3</td>\n",
       "      <td>45.1</td>\n",
       "      <td>10.4</td>\n",
       "    </tr>\n",
       "    <tr>\n",
       "      <th>2</th>\n",
       "      <td>17.2</td>\n",
       "      <td>45.9</td>\n",
       "      <td>69.3</td>\n",
       "      <td>9.3</td>\n",
       "    </tr>\n",
       "    <tr>\n",
       "      <th>3</th>\n",
       "      <td>151.5</td>\n",
       "      <td>41.3</td>\n",
       "      <td>58.5</td>\n",
       "      <td>18.5</td>\n",
       "    </tr>\n",
       "    <tr>\n",
       "      <th>4</th>\n",
       "      <td>180.8</td>\n",
       "      <td>10.8</td>\n",
       "      <td>58.4</td>\n",
       "      <td>12.9</td>\n",
       "    </tr>\n",
       "  </tbody>\n",
       "</table>\n",
       "</div>"
      ],
      "text/plain": [
       "      TV  Radio  Newspaper  Sales\n",
       "0  230.1   37.8       69.2   22.1\n",
       "1   44.5   39.3       45.1   10.4\n",
       "2   17.2   45.9       69.3    9.3\n",
       "3  151.5   41.3       58.5   18.5\n",
       "4  180.8   10.8       58.4   12.9"
      ]
     },
     "execution_count": 9,
     "metadata": {},
     "output_type": "execute_result"
    }
   ],
   "source": [
    "data.head()\n",
    "# first 5 rows in the data"
   ]
  },
  {
   "cell_type": "code",
   "execution_count": 10,
   "id": "0ae8a57e",
   "metadata": {
    "id": "0ae8a57e",
    "outputId": "58615a23-d4b1-469c-c2c2-7e7a6ef5bed7"
   },
   "outputs": [
    {
     "data": {
      "text/html": [
       "<div>\n",
       "<style scoped>\n",
       "    .dataframe tbody tr th:only-of-type {\n",
       "        vertical-align: middle;\n",
       "    }\n",
       "\n",
       "    .dataframe tbody tr th {\n",
       "        vertical-align: top;\n",
       "    }\n",
       "\n",
       "    .dataframe thead th {\n",
       "        text-align: right;\n",
       "    }\n",
       "</style>\n",
       "<table border=\"1\" class=\"dataframe\">\n",
       "  <thead>\n",
       "    <tr style=\"text-align: right;\">\n",
       "      <th></th>\n",
       "      <th>TV</th>\n",
       "      <th>Radio</th>\n",
       "      <th>Newspaper</th>\n",
       "      <th>Sales</th>\n",
       "    </tr>\n",
       "  </thead>\n",
       "  <tbody>\n",
       "    <tr>\n",
       "      <th>195</th>\n",
       "      <td>38.2</td>\n",
       "      <td>3.7</td>\n",
       "      <td>13.8</td>\n",
       "      <td>7.6</td>\n",
       "    </tr>\n",
       "    <tr>\n",
       "      <th>196</th>\n",
       "      <td>94.2</td>\n",
       "      <td>4.9</td>\n",
       "      <td>8.1</td>\n",
       "      <td>9.7</td>\n",
       "    </tr>\n",
       "    <tr>\n",
       "      <th>197</th>\n",
       "      <td>177.0</td>\n",
       "      <td>9.3</td>\n",
       "      <td>6.4</td>\n",
       "      <td>12.8</td>\n",
       "    </tr>\n",
       "    <tr>\n",
       "      <th>198</th>\n",
       "      <td>283.6</td>\n",
       "      <td>42.0</td>\n",
       "      <td>66.2</td>\n",
       "      <td>25.5</td>\n",
       "    </tr>\n",
       "    <tr>\n",
       "      <th>199</th>\n",
       "      <td>232.1</td>\n",
       "      <td>8.6</td>\n",
       "      <td>8.7</td>\n",
       "      <td>13.4</td>\n",
       "    </tr>\n",
       "  </tbody>\n",
       "</table>\n",
       "</div>"
      ],
      "text/plain": [
       "        TV  Radio  Newspaper  Sales\n",
       "195   38.2    3.7       13.8    7.6\n",
       "196   94.2    4.9        8.1    9.7\n",
       "197  177.0    9.3        6.4   12.8\n",
       "198  283.6   42.0       66.2   25.5\n",
       "199  232.1    8.6        8.7   13.4"
      ]
     },
     "execution_count": 10,
     "metadata": {},
     "output_type": "execute_result"
    }
   ],
   "source": [
    "data.tail()\n",
    "# last 5 rows"
   ]
  },
  {
   "cell_type": "code",
   "execution_count": 11,
   "id": "e6d3ae68",
   "metadata": {
    "id": "e6d3ae68",
    "outputId": "7bde9cf5-2b39-4bfb-e247-89622643ceea"
   },
   "outputs": [
    {
     "data": {
      "text/plain": [
       "TV           float64\n",
       "Radio        float64\n",
       "Newspaper    float64\n",
       "Sales        float64\n",
       "dtype: object"
      ]
     },
     "execution_count": 11,
     "metadata": {},
     "output_type": "execute_result"
    }
   ],
   "source": [
    "data.dtypes\n",
    "# no categorical data -> no encoding required"
   ]
  },
  {
   "cell_type": "code",
   "execution_count": 12,
   "id": "3065f2b9",
   "metadata": {
    "id": "3065f2b9",
    "outputId": "a611c13b-c6a9-4b62-ab87-364a501c0698"
   },
   "outputs": [
    {
     "name": "stdout",
     "output_type": "stream",
     "text": [
      "<class 'pandas.core.frame.DataFrame'>\n",
      "RangeIndex: 200 entries, 0 to 199\n",
      "Data columns (total 4 columns):\n",
      " #   Column     Non-Null Count  Dtype  \n",
      "---  ------     --------------  -----  \n",
      " 0   TV         200 non-null    float64\n",
      " 1   Radio      200 non-null    float64\n",
      " 2   Newspaper  200 non-null    float64\n",
      " 3   Sales      200 non-null    float64\n",
      "dtypes: float64(4)\n",
      "memory usage: 6.4 KB\n"
     ]
    }
   ],
   "source": [
    "data.info()\n",
    "# description on the data\n",
    "# no null value"
   ]
  },
  {
   "cell_type": "code",
   "execution_count": 13,
   "id": "96fdf74d",
   "metadata": {
    "id": "96fdf74d",
    "outputId": "9589dc06-7aa2-44ef-f00e-78182330e995"
   },
   "outputs": [
    {
     "data": {
      "text/html": [
       "<div>\n",
       "<style scoped>\n",
       "    .dataframe tbody tr th:only-of-type {\n",
       "        vertical-align: middle;\n",
       "    }\n",
       "\n",
       "    .dataframe tbody tr th {\n",
       "        vertical-align: top;\n",
       "    }\n",
       "\n",
       "    .dataframe thead th {\n",
       "        text-align: right;\n",
       "    }\n",
       "</style>\n",
       "<table border=\"1\" class=\"dataframe\">\n",
       "  <thead>\n",
       "    <tr style=\"text-align: right;\">\n",
       "      <th></th>\n",
       "      <th>TV</th>\n",
       "      <th>Radio</th>\n",
       "      <th>Newspaper</th>\n",
       "      <th>Sales</th>\n",
       "    </tr>\n",
       "  </thead>\n",
       "  <tbody>\n",
       "    <tr>\n",
       "      <th>count</th>\n",
       "      <td>200.000000</td>\n",
       "      <td>200.000000</td>\n",
       "      <td>200.000000</td>\n",
       "      <td>200.000000</td>\n",
       "    </tr>\n",
       "    <tr>\n",
       "      <th>mean</th>\n",
       "      <td>147.042500</td>\n",
       "      <td>23.264000</td>\n",
       "      <td>30.554000</td>\n",
       "      <td>14.022500</td>\n",
       "    </tr>\n",
       "    <tr>\n",
       "      <th>std</th>\n",
       "      <td>85.854236</td>\n",
       "      <td>14.846809</td>\n",
       "      <td>21.778621</td>\n",
       "      <td>5.217457</td>\n",
       "    </tr>\n",
       "    <tr>\n",
       "      <th>min</th>\n",
       "      <td>0.700000</td>\n",
       "      <td>0.000000</td>\n",
       "      <td>0.300000</td>\n",
       "      <td>1.600000</td>\n",
       "    </tr>\n",
       "    <tr>\n",
       "      <th>25%</th>\n",
       "      <td>74.375000</td>\n",
       "      <td>9.975000</td>\n",
       "      <td>12.750000</td>\n",
       "      <td>10.375000</td>\n",
       "    </tr>\n",
       "    <tr>\n",
       "      <th>50%</th>\n",
       "      <td>149.750000</td>\n",
       "      <td>22.900000</td>\n",
       "      <td>25.750000</td>\n",
       "      <td>12.900000</td>\n",
       "    </tr>\n",
       "    <tr>\n",
       "      <th>75%</th>\n",
       "      <td>218.825000</td>\n",
       "      <td>36.525000</td>\n",
       "      <td>45.100000</td>\n",
       "      <td>17.400000</td>\n",
       "    </tr>\n",
       "    <tr>\n",
       "      <th>max</th>\n",
       "      <td>296.400000</td>\n",
       "      <td>49.600000</td>\n",
       "      <td>114.000000</td>\n",
       "      <td>27.000000</td>\n",
       "    </tr>\n",
       "  </tbody>\n",
       "</table>\n",
       "</div>"
      ],
      "text/plain": [
       "               TV       Radio   Newspaper       Sales\n",
       "count  200.000000  200.000000  200.000000  200.000000\n",
       "mean   147.042500   23.264000   30.554000   14.022500\n",
       "std     85.854236   14.846809   21.778621    5.217457\n",
       "min      0.700000    0.000000    0.300000    1.600000\n",
       "25%     74.375000    9.975000   12.750000   10.375000\n",
       "50%    149.750000   22.900000   25.750000   12.900000\n",
       "75%    218.825000   36.525000   45.100000   17.400000\n",
       "max    296.400000   49.600000  114.000000   27.000000"
      ]
     },
     "execution_count": 13,
     "metadata": {},
     "output_type": "execute_result"
    }
   ],
   "source": [
    "data.describe()\n",
    "# constant columns - >std() = 0 -> drop those columns"
   ]
  },
  {
   "cell_type": "markdown",
   "id": "06d3b971",
   "metadata": {
    "id": "06d3b971"
   },
   "source": [
    "# EDA\n",
    "\n",
    "Exploratory Data Analysis\n",
    "\n",
    "1. Univarite analysis\n",
    "      \n",
    "         - analyse the single attribute /single column\n",
    "         - here all the columns are numeric data\n",
    "         - if it is a numerical col, we are going to basically check the distribution of data\n",
    "         - HISTOGRAM"
   ]
  },
  {
   "cell_type": "code",
   "execution_count": 14,
   "id": "67ddbc39-4b2b-4ad3-9c6e-2b56e500f1d4",
   "metadata": {
    "id": "67ddbc39-4b2b-4ad3-9c6e-2b56e500f1d4",
    "outputId": "f9235a36-9b79-46ed-d180-269cc32b2424"
   },
   "outputs": [
    {
     "data": {
      "text/html": [
       "<div>\n",
       "<style scoped>\n",
       "    .dataframe tbody tr th:only-of-type {\n",
       "        vertical-align: middle;\n",
       "    }\n",
       "\n",
       "    .dataframe tbody tr th {\n",
       "        vertical-align: top;\n",
       "    }\n",
       "\n",
       "    .dataframe thead th {\n",
       "        text-align: right;\n",
       "    }\n",
       "</style>\n",
       "<table border=\"1\" class=\"dataframe\">\n",
       "  <thead>\n",
       "    <tr style=\"text-align: right;\">\n",
       "      <th></th>\n",
       "      <th>TV</th>\n",
       "      <th>Radio</th>\n",
       "      <th>Newspaper</th>\n",
       "      <th>Sales</th>\n",
       "    </tr>\n",
       "  </thead>\n",
       "  <tbody>\n",
       "    <tr>\n",
       "      <th>0</th>\n",
       "      <td>230.1</td>\n",
       "      <td>37.8</td>\n",
       "      <td>69.2</td>\n",
       "      <td>22.1</td>\n",
       "    </tr>\n",
       "    <tr>\n",
       "      <th>1</th>\n",
       "      <td>44.5</td>\n",
       "      <td>39.3</td>\n",
       "      <td>45.1</td>\n",
       "      <td>10.4</td>\n",
       "    </tr>\n",
       "    <tr>\n",
       "      <th>2</th>\n",
       "      <td>17.2</td>\n",
       "      <td>45.9</td>\n",
       "      <td>69.3</td>\n",
       "      <td>9.3</td>\n",
       "    </tr>\n",
       "    <tr>\n",
       "      <th>3</th>\n",
       "      <td>151.5</td>\n",
       "      <td>41.3</td>\n",
       "      <td>58.5</td>\n",
       "      <td>18.5</td>\n",
       "    </tr>\n",
       "    <tr>\n",
       "      <th>4</th>\n",
       "      <td>180.8</td>\n",
       "      <td>10.8</td>\n",
       "      <td>58.4</td>\n",
       "      <td>12.9</td>\n",
       "    </tr>\n",
       "  </tbody>\n",
       "</table>\n",
       "</div>"
      ],
      "text/plain": [
       "      TV  Radio  Newspaper  Sales\n",
       "0  230.1   37.8       69.2   22.1\n",
       "1   44.5   39.3       45.1   10.4\n",
       "2   17.2   45.9       69.3    9.3\n",
       "3  151.5   41.3       58.5   18.5\n",
       "4  180.8   10.8       58.4   12.9"
      ]
     },
     "execution_count": 14,
     "metadata": {},
     "output_type": "execute_result"
    }
   ],
   "source": [
    "data.head()"
   ]
  },
  {
   "cell_type": "code",
   "execution_count": 15,
   "id": "cdc85fed",
   "metadata": {
    "id": "cdc85fed",
    "outputId": "0a983b76-a1e8-46e3-8011-2a7c8c3fd05b"
   },
   "outputs": [
    {
     "data": {
      "text/plain": [
       "<Axes: xlabel='TV', ylabel='Count'>"
      ]
     },
     "execution_count": 15,
     "metadata": {},
     "output_type": "execute_result"
    },
    {
     "data": {
      "image/png": "[encoded data removed]",
      "text/plain": [
       "<Figure size 500x300 with 1 Axes>"
      ]
     },
     "metadata": {},
     "output_type": "display_data"
    }
   ],
   "source": [
    "plt.figure(figsize=(5,3))\n",
    "sns.histplot(x=data['TV'],kde=True)"
   ]
  },
  {
   "cell_type": "markdown",
   "id": "8fbb4477",
   "metadata": {
    "id": "8fbb4477"
   },
   "source": [
    "Insight : the distribution is not normal"
   ]
  },
  {
   "cell_type": "markdown",
   "id": "90WEz0oOViF3",
   "metadata": {
    "id": "90WEz0oOViF3"
   },
   "source": []
  },
  {
   "cell_type": "code",
   "execution_count": 16,
   "id": "5973e407",
   "metadata": {
    "id": "5973e407"
   },
   "outputs": [],
   "source": [
    "#like wise you need to do it for rest of the columns and write the insight as above"
   ]
  },
  {
   "cell_type": "code",
   "execution_count": null,
   "id": "02db3015",
   "metadata": {},
   "outputs": [],
   "source": []
  },
  {
   "cell_type": "code",
   "execution_count": 17,
   "id": "d00f53b5",
   "metadata": {
    "id": "d00f53b5",
    "outputId": "9040c000-500f-4263-e0bf-6448d49b1f99"
   },
   "outputs": [
    {
     "data": {
      "text/plain": [
       "<Axes: ylabel='Density'>"
      ]
     },
     "execution_count": 17,
     "metadata": {},
     "output_type": "execute_result"
    },
    {
     "data": {
      "image/png": "[encoded data removed]",
      "text/plain": [
       "<Figure size 500x300 with 1 Axes>"
      ]
     },
     "metadata": {},
     "output_type": "display_data"
    }
   ],
   "source": [
    "plt.figure(figsize=(5,3))\n",
    "sns.distplot(x=data['Radio'])"
   ]
  },
  {
   "cell_type": "code",
   "execution_count": 18,
   "id": "9a3172b8-9a7a-4d30-858e-bc73f4bef5e8",
   "metadata": {
    "id": "9a3172b8-9a7a-4d30-858e-bc73f4bef5e8",
    "outputId": "3c777139-5399-4ff3-9d5c-57fc7c09168b"
   },
   "outputs": [
    {
     "data": {
      "text/plain": [
       "<Axes: ylabel='Density'>"
      ]
     },
     "execution_count": 18,
     "metadata": {},
     "output_type": "execute_result"
    },
    {
     "data": {
      "image/png": "[encoded data removed]",
      "text/plain": [
       "<Figure size 500x300 with 1 Axes>"
      ]
     },
     "metadata": {},
     "output_type": "display_data"
    }
   ],
   "source": [
    "plt.figure(figsize=(5,3))\n",
    "sns.distplot(x=data['Newspaper'])"
   ]
  },
  {
   "cell_type": "markdown",
   "id": "ec533415",
   "metadata": {
    "id": "ec533415"
   },
   "source": [
    "Bivariate analysis\n",
    "\n",
    "Two attributes\n",
    "\n",
    "1. num vs num\n",
    "\n",
    "2. num vs cat\n",
    "\n",
    "3. always analyse the input vs target and write the insight (tip)"
   ]
  },
  {
   "cell_type": "code",
   "execution_count": 19,
   "id": "10cf9558",
   "metadata": {
    "id": "10cf9558",
    "outputId": "20c10363-34d2-498a-aeb3-6284f328a0e1"
   },
   "outputs": [
    {
     "data": {
      "text/plain": [
       "<Axes: xlabel='TV', ylabel='Sales'>"
      ]
     },
     "execution_count": 19,
     "metadata": {},
     "output_type": "execute_result"
    },
    {
     "data": {
      "image/png": "[encoded data removed]",
      "text/plain": [
       "<Figure size 500x300 with 1 Axes>"
      ]
     },
     "metadata": {},
     "output_type": "display_data"
    }
   ],
   "source": [
    "plt.figure(figsize=(5,3))\n",
    "sns.scatterplot(data=data, x='TV', y = 'Sales')"
   ]
  },
  {
   "cell_type": "markdown",
   "id": "6d0c0458",
   "metadata": {
    "id": "6d0c0458"
   },
   "source": [
    "Insight : as the amount spent on TV advertising is increasing the sales is also getting a raise"
   ]
  },
  {
   "cell_type": "code",
   "execution_count": 20,
   "id": "cd1d703a",
   "metadata": {
    "id": "cd1d703a"
   },
   "outputs": [],
   "source": [
    "# follow the same for radio and newspaper"
   ]
  },
  {
   "cell_type": "code",
   "execution_count": 21,
   "id": "0b7d1961",
   "metadata": {
    "scrolled": true
   },
   "outputs": [
    {
     "data": {
      "text/plain": [
       "<Axes: xlabel='Radio', ylabel='Sales'>"
      ]
     },
     "execution_count": 21,
     "metadata": {},
     "output_type": "execute_result"
    },
    {
     "data": {
      "image/png": "[encoded data removed]",
      "text/plain": [
       "<Figure size 500x300 with 1 Axes>"
      ]
     },
     "metadata": {},
     "output_type": "display_data"
    }
   ],
   "source": [
    "plt.figure(figsize=(5,3))\n",
    "sns.scatterplot(data=data, x='Radio', y = 'Sales')"
   ]
  },
  {
   "cell_type": "code",
   "execution_count": 22,
   "id": "3585807f",
   "metadata": {},
   "outputs": [
    {
     "data": {
      "text/plain": [
       "<Axes: xlabel='Newspaper', ylabel='Sales'>"
      ]
     },
     "execution_count": 22,
     "metadata": {},
     "output_type": "execute_result"
    },
    {
     "data": {
      "image/png": "[encoded data removed]",
      "text/plain": [
       "<Figure size 500x300 with 1 Axes>"
      ]
     },
     "metadata": {},
     "output_type": "display_data"
    }
   ],
   "source": [
    "plt.figure(figsize=(5,3))\n",
    "sns.scatterplot(data=data, x='Newspaper', y = 'Sales')"
   ]
  },
  {
   "cell_type": "markdown",
   "id": "9ad8a5f4",
   "metadata": {
    "id": "9ad8a5f4"
   },
   "source": [
    "Multi variate analysis\n",
    "\n"
   ]
  },
  {
   "cell_type": "code",
   "execution_count": 23,
   "id": "33e30436",
   "metadata": {
    "id": "33e30436",
    "outputId": "9583af75-7979-49ee-c062-8783ddbe4fd0"
   },
   "outputs": [
    {
     "data": {
      "text/plain": [
       "<seaborn.axisgrid.PairGrid at 0x180f1daf0b0>"
      ]
     },
     "execution_count": 23,
     "metadata": {},
     "output_type": "execute_result"
    },
    {
     "data": {
      "image/png": "[encoded data removed]",
      "text/plain": [
       "<Figure size 1000x1000 with 20 Axes>"
      ]
     },
     "metadata": {},
     "output_type": "display_data"
    }
   ],
   "source": [
    "#pair plot\n",
    "sns.pairplot(data)"
   ]
  },
  {
   "cell_type": "markdown",
   "id": "4c10b953",
   "metadata": {
    "id": "4c10b953"
   },
   "source": [
    "# Preprocessing of data\n",
    "\n",
    "Cleaning the data\n",
    "\n",
    "We need to clean and bring the data to proper format, and then push the data for traning"
   ]
  },
  {
   "cell_type": "markdown",
   "id": "70f09d74-fcb4-4b9c-be3e-55e4d8c3a8ae",
   "metadata": {
    "id": "70f09d74-fcb4-4b9c-be3e-55e4d8c3a8ae"
   },
   "source": [
    "1. constant columns\n",
    "\n",
    "           - num - > std() =0\n",
    "           - cat --> unique() == 1\n",
    "2. Unique  ---> drop\n",
    "3. Null values\n",
    "4. Duplicates\n",
    "5. Transformation\n",
    "6. Outliers\n",
    "7. Encoding -- convert cat data into numerical\n",
    "8. Scaling"
   ]
  },
  {
   "cell_type": "code",
   "execution_count": 24,
   "id": "fc2220bc-fcf7-4343-9a52-9bfd30e1b821",
   "metadata": {
    "id": "fc2220bc-fcf7-4343-9a52-9bfd30e1b821"
   },
   "outputs": [],
   "source": [
    "# 1. constant columns ---> std() = 0 no such col in this data\n",
    "# 2. unique -----------> No such columns in the data"
   ]
  },
  {
   "cell_type": "code",
   "execution_count": 25,
   "id": "ec492818",
   "metadata": {
    "id": "ec492818",
    "outputId": "cbdbbb12-a6f3-49fb-aa4c-0bb917c68af0"
   },
   "outputs": [
    {
     "data": {
      "text/plain": [
       "TV           0\n",
       "Radio        0\n",
       "Newspaper    0\n",
       "Sales        0\n",
       "dtype: int64"
      ]
     },
     "execution_count": 25,
     "metadata": {},
     "output_type": "execute_result"
    }
   ],
   "source": [
    "# 3. checking for null values, if the data is having null then replace with mean, median and mode\n",
    "# if the data is des/ cate ---> replace the null values with mode\n",
    "# if data is contiuous num and has a normla distri ---> replace the null value with meaan\n",
    "# if data is contiuous num and has a skewed / not norml distri ---> replace the null value with median.\n",
    "data.isnull().sum()"
   ]
  },
  {
   "cell_type": "code",
   "execution_count": 26,
   "id": "2b0727fe",
   "metadata": {
    "id": "2b0727fe",
    "outputId": "d4109ca8-092f-4de7-c4be-e0aaafc79a55"
   },
   "outputs": [
    {
     "data": {
      "text/plain": [
       "np.int64(0)"
      ]
     },
     "execution_count": 26,
     "metadata": {},
     "output_type": "execute_result"
    }
   ],
   "source": [
    "# 4. checking for duplicates, if present drop them , data.drop_duplicates()\n",
    "data.duplicated().sum()"
   ]
  },
  {
   "cell_type": "code",
   "execution_count": 27,
   "id": "fd8a4fc1",
   "metadata": {
    "id": "fd8a4fc1",
    "outputId": "4413e481-5f0f-42df-9625-ac5affff2fce"
   },
   "outputs": [
    {
     "data": {
      "text/plain": [
       "<Axes: xlabel='Newspaper'>"
      ]
     },
     "execution_count": 27,
     "metadata": {},
     "output_type": "execute_result"
    },
    {
     "data": {
      "image/png": "[encoded data removed]",
      "text/plain": [
       "<Figure size 500x300 with 1 Axes>"
      ]
     },
     "metadata": {},
     "output_type": "display_data"
    }
   ],
   "source": [
    "# 5. outlier detection\n",
    "plt.figure(figsize=(5,3))\n",
    "sns.boxplot(x=data['Newspaper'])"
   ]
  },
  {
   "cell_type": "code",
   "execution_count": 28,
   "id": "e92891b6",
   "metadata": {
    "id": "e92891b6",
    "outputId": "711f8cf4-6988-44d6-a4b0-656c0bbf42b9"
   },
   "outputs": [
    {
     "data": {
      "text/plain": [
       "<Axes: ylabel='Density'>"
      ]
     },
     "execution_count": 28,
     "metadata": {},
     "output_type": "execute_result"
    },
    {
     "data": {
      "image/png": "[encoded data removed]",
      "text/plain": [
       "<Figure size 500x300 with 1 Axes>"
      ]
     },
     "metadata": {},
     "output_type": "display_data"
    }
   ],
   "source": [
    "#we will handle the outliers,\n",
    "#1. distrubtion\n",
    "\n",
    "plt.figure(figsize=(5,3))\n",
    "sns.distplot(x=data['Newspaper'])"
   ]
  },
  {
   "cell_type": "code",
   "execution_count": 29,
   "id": "215e1a6b",
   "metadata": {
    "id": "215e1a6b"
   },
   "outputs": [],
   "source": [
    "#the distribution is not normal, skewed distribution\n",
    "# We will handle the outlier by IQR method\n",
    "# Q1, Q3\n",
    "# IQR\n",
    "# LOWER   q1 - 1.5*iqr\n",
    "# UPPER   q3 + 1.5 * iqr"
   ]
  },
  {
   "cell_type": "code",
   "execution_count": 30,
   "id": "a4fed9e5",
   "metadata": {
    "id": "a4fed9e5",
    "outputId": "7c8caf76-084c-442a-b00e-d22b46eac420"
   },
   "outputs": [
    {
     "data": {
      "text/plain": [
       "np.float64(12.75)"
      ]
     },
     "execution_count": 30,
     "metadata": {},
     "output_type": "execute_result"
    }
   ],
   "source": [
    "q1 = data['Newspaper'].quantile(0.25)\n",
    "q1"
   ]
  },
  {
   "cell_type": "code",
   "execution_count": 31,
   "id": "0e5416b1",
   "metadata": {
    "id": "0e5416b1",
    "outputId": "010b5ffb-2590-497b-96a5-8f6ffd4e2346"
   },
   "outputs": [
    {
     "data": {
      "text/plain": [
       "np.float64(45.1)"
      ]
     },
     "execution_count": 31,
     "metadata": {},
     "output_type": "execute_result"
    }
   ],
   "source": [
    "q3 = data['Newspaper'].quantile(0.75)\n",
    "q3"
   ]
  },
  {
   "cell_type": "code",
   "execution_count": 32,
   "id": "fab3fc86",
   "metadata": {
    "id": "fab3fc86",
    "outputId": "ee327bcf-d4da-4fed-9c1a-0ead430861db"
   },
   "outputs": [
    {
     "data": {
      "text/plain": [
       "np.float64(32.35)"
      ]
     },
     "execution_count": 32,
     "metadata": {},
     "output_type": "execute_result"
    }
   ],
   "source": [
    "iqr = q3 - q1\n",
    "iqr"
   ]
  },
  {
   "cell_type": "code",
   "execution_count": 33,
   "id": "43c11505",
   "metadata": {
    "id": "43c11505",
    "outputId": "8ba0f712-402c-4d0f-e6f1-00ea1515ff4f"
   },
   "outputs": [
    {
     "data": {
      "text/plain": [
       "np.float64(-35.775000000000006)"
      ]
     },
     "execution_count": 33,
     "metadata": {},
     "output_type": "execute_result"
    }
   ],
   "source": [
    "lower = q1 - 1.5 * iqr\n",
    "lower"
   ]
  },
  {
   "cell_type": "code",
   "execution_count": 34,
   "id": "303a8063",
   "metadata": {
    "id": "303a8063",
    "outputId": "94394a8c-fda4-420b-d21e-392ac539a956"
   },
   "outputs": [
    {
     "data": {
      "text/plain": [
       "np.float64(93.625)"
      ]
     },
     "execution_count": 34,
     "metadata": {},
     "output_type": "execute_result"
    }
   ],
   "source": [
    "upper = q3 + 1.5 * iqr\n",
    "upper"
   ]
  },
  {
   "cell_type": "code",
   "execution_count": 35,
   "id": "18a26c17",
   "metadata": {
    "id": "18a26c17",
    "outputId": "5ec95490-2b3e-4389-8fd3-bf075cc1121e"
   },
   "outputs": [
    {
     "data": {
      "text/html": [
       "<div>\n",
       "<style scoped>\n",
       "    .dataframe tbody tr th:only-of-type {\n",
       "        vertical-align: middle;\n",
       "    }\n",
       "\n",
       "    .dataframe tbody tr th {\n",
       "        vertical-align: top;\n",
       "    }\n",
       "\n",
       "    .dataframe thead th {\n",
       "        text-align: right;\n",
       "    }\n",
       "</style>\n",
       "<table border=\"1\" class=\"dataframe\">\n",
       "  <thead>\n",
       "    <tr style=\"text-align: right;\">\n",
       "      <th></th>\n",
       "      <th>TV</th>\n",
       "      <th>Radio</th>\n",
       "      <th>Newspaper</th>\n",
       "      <th>Sales</th>\n",
       "    </tr>\n",
       "  </thead>\n",
       "  <tbody>\n",
       "  </tbody>\n",
       "</table>\n",
       "</div>"
      ],
      "text/plain": [
       "Empty DataFrame\n",
       "Columns: [TV, Radio, Newspaper, Sales]\n",
       "Index: []"
      ]
     },
     "execution_count": 35,
     "metadata": {},
     "output_type": "execute_result"
    }
   ],
   "source": [
    "data.loc[data['Newspaper']<lower]"
   ]
  },
  {
   "cell_type": "code",
   "execution_count": 36,
   "id": "d15cfbe4-e8c3-4488-a289-0adfa5a516ef",
   "metadata": {
    "id": "d15cfbe4-e8c3-4488-a289-0adfa5a516ef",
    "outputId": "88e94bef-681f-4056-e66d-f5d28f8ad7e9"
   },
   "outputs": [
    {
     "data": {
      "text/html": [
       "<div>\n",
       "<style scoped>\n",
       "    .dataframe tbody tr th:only-of-type {\n",
       "        vertical-align: middle;\n",
       "    }\n",
       "\n",
       "    .dataframe tbody tr th {\n",
       "        vertical-align: top;\n",
       "    }\n",
       "\n",
       "    .dataframe thead th {\n",
       "        text-align: right;\n",
       "    }\n",
       "</style>\n",
       "<table border=\"1\" class=\"dataframe\">\n",
       "  <thead>\n",
       "    <tr style=\"text-align: right;\">\n",
       "      <th></th>\n",
       "      <th>TV</th>\n",
       "      <th>Radio</th>\n",
       "      <th>Newspaper</th>\n",
       "      <th>Sales</th>\n",
       "    </tr>\n",
       "  </thead>\n",
       "  <tbody>\n",
       "    <tr>\n",
       "      <th>16</th>\n",
       "      <td>67.8</td>\n",
       "      <td>36.6</td>\n",
       "      <td>114.0</td>\n",
       "      <td>12.5</td>\n",
       "    </tr>\n",
       "    <tr>\n",
       "      <th>101</th>\n",
       "      <td>296.4</td>\n",
       "      <td>36.3</td>\n",
       "      <td>100.9</td>\n",
       "      <td>23.8</td>\n",
       "    </tr>\n",
       "  </tbody>\n",
       "</table>\n",
       "</div>"
      ],
      "text/plain": [
       "        TV  Radio  Newspaper  Sales\n",
       "16    67.8   36.6      114.0   12.5\n",
       "101  296.4   36.3      100.9   23.8"
      ]
     },
     "execution_count": 36,
     "metadata": {},
     "output_type": "execute_result"
    }
   ],
   "source": [
    "data.loc[data['Newspaper']>upper]"
   ]
  },
  {
   "cell_type": "code",
   "execution_count": 37,
   "id": "87cd1048",
   "metadata": {
    "id": "87cd1048",
    "outputId": "ac4cd34b-9c41-4fca-ae84-fc05d651fc39"
   },
   "outputs": [
    {
     "data": {
      "text/plain": [
       "2"
      ]
     },
     "execution_count": 37,
     "metadata": {},
     "output_type": "execute_result"
    }
   ],
   "source": [
    "#% of outlier\n",
    "# if % of outlier is 5 or below 5 then only handle\n",
    "# if % of outlier is > than 5 10,20 dont do anything\n",
    "len(data.loc[data['Newspaper']>upper])"
   ]
  },
  {
   "cell_type": "code",
   "execution_count": 38,
   "id": "bc562b42-6572-4aaa-ac7a-f8a687a1d4d6",
   "metadata": {
    "id": "bc562b42-6572-4aaa-ac7a-f8a687a1d4d6",
    "outputId": "86d97a43-8fc0-4874-b37e-fcdbc549e9d9"
   },
   "outputs": [
    {
     "data": {
      "text/plain": [
       "200"
      ]
     },
     "execution_count": 38,
     "metadata": {},
     "output_type": "execute_result"
    }
   ],
   "source": [
    "len(data)"
   ]
  },
  {
   "cell_type": "code",
   "execution_count": 39,
   "id": "09e33564-cfd4-4295-95fa-5287faa53a10",
   "metadata": {
    "id": "09e33564-cfd4-4295-95fa-5287faa53a10",
    "outputId": "56f03cdf-c2c9-4ff1-f474-04e4e32d0730"
   },
   "outputs": [
    {
     "data": {
      "text/plain": [
       "1.0"
      ]
     },
     "execution_count": 39,
     "metadata": {},
     "output_type": "execute_result"
    }
   ],
   "source": [
    "(len(data.loc[data['Newspaper']>upper])/len(data))*100"
   ]
  },
  {
   "cell_type": "code",
   "execution_count": 40,
   "id": "8c0106e1",
   "metadata": {},
   "outputs": [
    {
     "data": {
      "text/plain": [
       "np.float64(25.75)"
      ]
     },
     "execution_count": 40,
     "metadata": {},
     "output_type": "execute_result"
    }
   ],
   "source": [
    "data['Newspaper'].median()"
   ]
  },
  {
   "cell_type": "code",
   "execution_count": 41,
   "id": "786eb0d0-808f-4ddd-9368-03fdce03829c",
   "metadata": {
    "id": "786eb0d0-808f-4ddd-9368-03fdce03829c"
   },
   "outputs": [],
   "source": [
    "data.loc[data['Newspaper']>upper,'Newspaper']  = data['Newspaper'].median()"
   ]
  },
  {
   "cell_type": "code",
   "execution_count": 42,
   "id": "ddf65734",
   "metadata": {},
   "outputs": [
    {
     "data": {
      "text/plain": [
       "<Axes: xlabel='Newspaper'>"
      ]
     },
     "execution_count": 42,
     "metadata": {},
     "output_type": "execute_result"
    },
    {
     "data": {
      "image/png": "[encoded data removed]",
      "text/plain": [
       "<Figure size 500x300 with 1 Axes>"
      ]
     },
     "metadata": {},
     "output_type": "display_data"
    }
   ],
   "source": [
    "plt.figure(figsize=(5,3))\n",
    "sns.boxplot(x=data['Newspaper'])"
   ]
  },
  {
   "cell_type": "code",
   "execution_count": 44,
   "id": "8f52c464",
   "metadata": {},
   "outputs": [
    {
     "data": {
      "text/html": [
       "<div>\n",
       "<style scoped>\n",
       "    .dataframe tbody tr th:only-of-type {\n",
       "        vertical-align: middle;\n",
       "    }\n",
       "\n",
       "    .dataframe tbody tr th {\n",
       "        vertical-align: top;\n",
       "    }\n",
       "\n",
       "    .dataframe thead th {\n",
       "        text-align: right;\n",
       "    }\n",
       "</style>\n",
       "<table border=\"1\" class=\"dataframe\">\n",
       "  <thead>\n",
       "    <tr style=\"text-align: right;\">\n",
       "      <th></th>\n",
       "      <th>TV</th>\n",
       "      <th>Radio</th>\n",
       "      <th>Newspaper</th>\n",
       "      <th>Sales</th>\n",
       "    </tr>\n",
       "  </thead>\n",
       "  <tbody>\n",
       "    <tr>\n",
       "      <th>0</th>\n",
       "      <td>230.1</td>\n",
       "      <td>37.8</td>\n",
       "      <td>69.2</td>\n",
       "      <td>22.1</td>\n",
       "    </tr>\n",
       "    <tr>\n",
       "      <th>1</th>\n",
       "      <td>44.5</td>\n",
       "      <td>39.3</td>\n",
       "      <td>45.1</td>\n",
       "      <td>10.4</td>\n",
       "    </tr>\n",
       "    <tr>\n",
       "      <th>2</th>\n",
       "      <td>17.2</td>\n",
       "      <td>45.9</td>\n",
       "      <td>69.3</td>\n",
       "      <td>9.3</td>\n",
       "    </tr>\n",
       "    <tr>\n",
       "      <th>3</th>\n",
       "      <td>151.5</td>\n",
       "      <td>41.3</td>\n",
       "      <td>58.5</td>\n",
       "      <td>18.5</td>\n",
       "    </tr>\n",
       "    <tr>\n",
       "      <th>4</th>\n",
       "      <td>180.8</td>\n",
       "      <td>10.8</td>\n",
       "      <td>58.4</td>\n",
       "      <td>12.9</td>\n",
       "    </tr>\n",
       "  </tbody>\n",
       "</table>\n",
       "</div>"
      ],
      "text/plain": [
       "      TV  Radio  Newspaper  Sales\n",
       "0  230.1   37.8       69.2   22.1\n",
       "1   44.5   39.3       45.1   10.4\n",
       "2   17.2   45.9       69.3    9.3\n",
       "3  151.5   41.3       58.5   18.5\n",
       "4  180.8   10.8       58.4   12.9"
      ]
     },
     "execution_count": 44,
     "metadata": {},
     "output_type": "execute_result"
    }
   ],
   "source": [
    "data.head()"
   ]
  },
  {
   "cell_type": "code",
   "execution_count": null,
   "id": "8b1212c1-8054-4bcd-afca-785346c4add5",
   "metadata": {
    "id": "8b1212c1-8054-4bcd-afca-785346c4add5"
   },
   "outputs": [],
   "source": [
    "# Encoding\n",
    "# Scaling is skipped here"
   ]
  },
  {
   "cell_type": "markdown",
   "id": "e2419ac8",
   "metadata": {
    "id": "e2419ac8"
   },
   "source": [
    "# Feature engineering / Feature selection\n",
    "\n",
    "We are going to select the important features from the data, for the model to get trained\n",
    "\n",
    "\n",
    "1. drop the irrelevant columns\n",
    "\n",
    "2. heatmap and check the co relation values"
   ]
  },
  {
   "cell_type": "code",
   "execution_count": null,
   "id": "816f0319",
   "metadata": {
    "id": "816f0319"
   },
   "outputs": [],
   "source": [
    "#drop the irrelevant columns"
   ]
  },
  {
   "cell_type": "code",
   "execution_count": 43,
   "id": "0e2478df",
   "metadata": {
    "id": "0e2478df",
    "outputId": "4c87aaff-5ebf-4e25-bfae-968d152d1b4a"
   },
   "outputs": [
    {
     "data": {
      "text/plain": [
       "<Axes: >"
      ]
     },
     "execution_count": 43,
     "metadata": {},
     "output_type": "execute_result"
    },
    {
     "data": {
      "image/png": "[encoded data removed]",
      "text/plain": [
       "<Figure size 640x480 with 2 Axes>"
      ]
     },
     "metadata": {},
     "output_type": "display_data"
    }
   ],
   "source": [
    "sns.heatmap(data.drop('Sales',axis=1).corr(),annot=True)"
   ]
  },
  {
   "cell_type": "code",
   "execution_count": null,
   "id": "68f7c97f",
   "metadata": {
    "id": "68f7c97f"
   },
   "outputs": [],
   "source": [
    "#no column is dropped all are retained for the model to learn on it"
   ]
  },
  {
   "cell_type": "markdown",
   "id": "da5f70ec",
   "metadata": {
    "id": "da5f70ec"
   },
   "source": [
    "# Model buidling"
   ]
  },
  {
   "cell_type": "code",
   "execution_count": 45,
   "id": "f916ed2e",
   "metadata": {
    "id": "f916ed2e"
   },
   "outputs": [],
   "source": [
    "# divide the data into input and target\n",
    "x = data.drop('Sales',axis=1)\n",
    "y = data['Sales']\n",
    "\n"
   ]
  },
  {
   "cell_type": "code",
   "execution_count": null,
   "id": "275e4858",
   "metadata": {
    "id": "275e4858"
   },
   "outputs": [],
   "source": [
    "# divide the x and y into training data and testing data\n",
    "# 100 % data will be there\n",
    "\n",
    "# training  maximumn data will be sent for model to train, 70%, 75%, 80%\n",
    "# testing  minim data that is 20%, 25%,30 % will be sent for testing , new record for the model\n",
    "        # it is a total unseen record for the model"
   ]
  },
  {
   "cell_type": "code",
   "execution_count": 46,
   "id": "9981a5f9",
   "metadata": {
    "id": "9981a5f9"
   },
   "outputs": [],
   "source": [
    "#sklearn , it is a scientific library  which has all the functionalities of ML\n",
    "from sklearn.model_selection import train_test_split\n",
    "x_train , x_test , y_train , y_test = train_test_split(x,y,test_size = 0.30, random_state = 3)"
   ]
  },
  {
   "cell_type": "code",
   "execution_count": 47,
   "id": "2a8f660e",
   "metadata": {
    "id": "2a8f660e",
    "outputId": "1399fa4c-842c-43b3-ffb3-7e3c9734e47a"
   },
   "outputs": [
    {
     "data": {
      "text/plain": [
       "(200, 3)"
      ]
     },
     "execution_count": 47,
     "metadata": {},
     "output_type": "execute_result"
    }
   ],
   "source": [
    "x.shape"
   ]
  },
  {
   "cell_type": "code",
   "execution_count": 48,
   "id": "024980d8",
   "metadata": {
    "id": "024980d8",
    "outputId": "c76b3e7f-81ee-43f2-ebb0-1a1babd9ec34"
   },
   "outputs": [
    {
     "data": {
      "text/plain": [
       "(140, 3)"
      ]
     },
     "execution_count": 48,
     "metadata": {},
     "output_type": "execute_result"
    }
   ],
   "source": [
    "x_train.shape"
   ]
  },
  {
   "cell_type": "code",
   "execution_count": 49,
   "id": "15f1f842",
   "metadata": {
    "id": "15f1f842",
    "outputId": "cb281fcd-7e12-45c9-d5b8-5d92d741a20e"
   },
   "outputs": [
    {
     "data": {
      "text/plain": [
       "(60, 3)"
      ]
     },
     "execution_count": 49,
     "metadata": {},
     "output_type": "execute_result"
    }
   ],
   "source": [
    "x_test.shape"
   ]
  },
  {
   "cell_type": "markdown",
   "id": "0f429830",
   "metadata": {
    "id": "0f429830"
   },
   "source": [
    "# Algorithm"
   ]
  },
  {
   "cell_type": "code",
   "execution_count": 50,
   "id": "6d2099e5",
   "metadata": {
    "id": "6d2099e5",
    "outputId": "8200f175-64f0-4f55-ae12-643992eae5bc"
   },
   "outputs": [
    {
     "data": {
      "text/html": [
       "<style>#sk-container-id-1 {\n",
       "  /* Definition of color scheme common for light and dark mode */\n",
       "  --sklearn-color-text: #000;\n",
       "  --sklearn-color-text-muted: #666;\n",
       "  --sklearn-color-line: gray;\n",
       "  /* Definition of color scheme for unfitted estimators */\n",
       "  --sklearn-color-unfitted-level-0: #fff5e6;\n",
       "  --sklearn-color-unfitted-level-1: #f6e4d2;\n",
       "  --sklearn-color-unfitted-level-2: #ffe0b3;\n",
       "  --sklearn-color-unfitted-level-3: chocolate;\n",
       "  /* Definition of color scheme for fitted estimators */\n",
       "  --sklearn-color-fitted-level-0: #f0f8ff;\n",
       "  --sklearn-color-fitted-level-1: #d4ebff;\n",
       "  --sklearn-color-fitted-level-2: #b3dbfd;\n",
       "  --sklearn-color-fitted-level-3: cornflowerblue;\n",
       "\n",
       "  /* Specific color for light theme */\n",
       "  --sklearn-color-text-on-default-background: var(--sg-text-color, var(--theme-code-foreground, var(--jp-content-font-color1, black)));\n",
       "  --sklearn-color-background: var(--sg-background-color, var(--theme-background, var(--jp-layout-color0, white)));\n",
       "  --sklearn-color-border-box: var(--sg-text-color, var(--theme-code-foreground, var(--jp-content-font-color1, black)));\n",
       "  --sklearn-color-icon: #696969;\n",
       "\n",
       "  @media (prefers-color-scheme: dark) {\n",
       "    /* Redefinition of color scheme for dark theme */\n",
       "    --sklearn-color-text-on-default-background: var(--sg-text-color, var(--theme-code-foreground, var(--jp-content-font-color1, white)));\n",
       "    --sklearn-color-background: var(--sg-background-color, var(--theme-background, var(--jp-layout-color0, #111)));\n",
       "    --sklearn-color-border-box: var(--sg-text-color, var(--theme-code-foreground, var(--jp-content-font-color1, white)));\n",
       "    --sklearn-color-icon: #878787;\n",
       "  }\n",
       "}\n",
       "\n",
       "#sk-container-id-1 {\n",
       "  color: var(--sklearn-color-text);\n",
       "}\n",
       "\n",
       "#sk-container-id-1 pre {\n",
       "  padding: 0;\n",
       "}\n",
       "\n",
       "#sk-container-id-1 input.sk-hidden--visually {\n",
       "  border: 0;\n",
       "  clip: rect(1px 1px 1px 1px);\n",
       "  clip: rect(1px, 1px, 1px, 1px);\n",
       "  height: 1px;\n",
       "  margin: -1px;\n",
       "  overflow: hidden;\n",
       "  padding: 0;\n",
       "  position: absolute;\n",
       "  width: 1px;\n",
       "}\n",
       "\n",
       "#sk-container-id-1 div.sk-dashed-wrapped {\n",
       "  border: 1px dashed var(--sklearn-color-line);\n",
       "  margin: 0 0.4em 0.5em 0.4em;\n",
       "  box-sizing: border-box;\n",
       "  padding-bottom: 0.4em;\n",
       "  background-color: var(--sklearn-color-background);\n",
       "}\n",
       "\n",
       "#sk-container-id-1 div.sk-container {\n",
       "  /* jupyter's `normalize.less` sets `[hidden] { display: none; }`\n",
       "     but bootstrap.min.css set `[hidden] { display: none !important; }`\n",
       "     so we also need the `!important` here to be able to override the\n",
       "     default hidden behavior on the sphinx rendered scikit-learn.org.\n",
       "     See: https://github.com/scikit-learn/scikit-learn/issues/21755 */\n",
       "  display: inline-block !important;\n",
       "  position: relative;\n",
       "}\n",
       "\n",
       "#sk-container-id-1 div.sk-text-repr-fallback {\n",
       "  display: none;\n",
       "}\n",
       "\n",
       "div.sk-parallel-item,\n",
       "div.sk-serial,\n",
       "div.sk-item {\n",
       "  /* draw centered vertical line to link estimators */\n",
       "  background-image: linear-gradient(var(--sklearn-color-text-on-default-background), var(--sklearn-color-text-on-default-background));\n",
       "  background-size: 2px 100%;\n",
       "  background-repeat: no-repeat;\n",
       "  background-position: center center;\n",
       "}\n",
       "\n",
       "/* Parallel-specific style estimator block */\n",
       "\n",
       "#sk-container-id-1 div.sk-parallel-item::after {\n",
       "  content: \"\";\n",
       "  width: 100%;\n",
       "  border-bottom: 2px solid var(--sklearn-color-text-on-default-background);\n",
       "  flex-grow: 1;\n",
       "}\n",
       "\n",
       "#sk-container-id-1 div.sk-parallel {\n",
       "  display: flex;\n",
       "  align-items: stretch;\n",
       "  justify-content: center;\n",
       "  background-color: var(--sklearn-color-background);\n",
       "  position: relative;\n",
       "}\n",
       "\n",
       "#sk-container-id-1 div.sk-parallel-item {\n",
       "  display: flex;\n",
       "  flex-direction: column;\n",
       "}\n",
       "\n",
       "#sk-container-id-1 div.sk-parallel-item:first-child::after {\n",
       "  align-self: flex-end;\n",
       "  width: 50%;\n",
       "}\n",
       "\n",
       "#sk-container-id-1 div.sk-parallel-item:last-child::after {\n",
       "  align-self: flex-start;\n",
       "  width: 50%;\n",
       "}\n",
       "\n",
       "#sk-container-id-1 div.sk-parallel-item:only-child::after {\n",
       "  width: 0;\n",
       "}\n",
       "\n",
       "/* Serial-specific style estimator block */\n",
       "\n",
       "#sk-container-id-1 div.sk-serial {\n",
       "  display: flex;\n",
       "  flex-direction: column;\n",
       "  align-items: center;\n",
       "  background-color: var(--sklearn-color-background);\n",
       "  padding-right: 1em;\n",
       "  padding-left: 1em;\n",
       "}\n",
       "\n",
       "\n",
       "/* Toggleable style: style used for estimator/Pipeline/ColumnTransformer box that is\n",
       "clickable and can be expanded/collapsed.\n",
       "- Pipeline and ColumnTransformer use this feature and define the default style\n",
       "- Estimators will overwrite some part of the style using the `sk-estimator` class\n",
       "*/\n",
       "\n",
       "/* Pipeline and ColumnTransformer style (default) */\n",
       "\n",
       "#sk-container-id-1 div.sk-toggleable {\n",
       "  /* Default theme specific background. It is overwritten whether we have a\n",
       "  specific estimator or a Pipeline/ColumnTransformer */\n",
       "  background-color: var(--sklearn-color-background);\n",
       "}\n",
       "\n",
       "/* Toggleable label */\n",
       "#sk-container-id-1 label.sk-toggleable__label {\n",
       "  cursor: pointer;\n",
       "  display: flex;\n",
       "  width: 100%;\n",
       "  margin-bottom: 0;\n",
       "  padding: 0.5em;\n",
       "  box-sizing: border-box;\n",
       "  text-align: center;\n",
       "  align-items: start;\n",
       "  justify-content: space-between;\n",
       "  gap: 0.5em;\n",
       "}\n",
       "\n",
       "#sk-container-id-1 label.sk-toggleable__label .caption {\n",
       "  font-size: 0.6rem;\n",
       "  font-weight: lighter;\n",
       "  color: var(--sklearn-color-text-muted);\n",
       "}\n",
       "\n",
       "#sk-container-id-1 label.sk-toggleable__label-arrow:before {\n",
       "  /* Arrow on the left of the label */\n",
       "  content: \"▸\";\n",
       "  float: left;\n",
       "  margin-right: 0.25em;\n",
       "  color: var(--sklearn-color-icon);\n",
       "}\n",
       "\n",
       "#sk-container-id-1 label.sk-toggleable__label-arrow:hover:before {\n",
       "  color: var(--sklearn-color-text);\n",
       "}\n",
       "\n",
       "/* Toggleable content - dropdown */\n",
       "\n",
       "#sk-container-id-1 div.sk-toggleable__content {\n",
       "  max-height: 0;\n",
       "  max-width: 0;\n",
       "  overflow: hidden;\n",
       "  text-align: left;\n",
       "  /* unfitted */\n",
       "  background-color: var(--sklearn-color-unfitted-level-0);\n",
       "}\n",
       "\n",
       "#sk-container-id-1 div.sk-toggleable__content.fitted {\n",
       "  /* fitted */\n",
       "  background-color: var(--sklearn-color-fitted-level-0);\n",
       "}\n",
       "\n",
       "#sk-container-id-1 div.sk-toggleable__content pre {\n",
       "  margin: 0.2em;\n",
       "  border-radius: 0.25em;\n",
       "  color: var(--sklearn-color-text);\n",
       "  /* unfitted */\n",
       "  background-color: var(--sklearn-color-unfitted-level-0);\n",
       "}\n",
       "\n",
       "#sk-container-id-1 div.sk-toggleable__content.fitted pre {\n",
       "  /* unfitted */\n",
       "  background-color: var(--sklearn-color-fitted-level-0);\n",
       "}\n",
       "\n",
       "#sk-container-id-1 input.sk-toggleable__control:checked~div.sk-toggleable__content {\n",
       "  /* Expand drop-down */\n",
       "  max-height: 200px;\n",
       "  max-width: 100%;\n",
       "  overflow: auto;\n",
       "}\n",
       "\n",
       "#sk-container-id-1 input.sk-toggleable__control:checked~label.sk-toggleable__label-arrow:before {\n",
       "  content: \"▾\";\n",
       "}\n",
       "\n",
       "/* Pipeline/ColumnTransformer-specific style */\n",
       "\n",
       "#sk-container-id-1 div.sk-label input.sk-toggleable__control:checked~label.sk-toggleable__label {\n",
       "  color: var(--sklearn-color-text);\n",
       "  background-color: var(--sklearn-color-unfitted-level-2);\n",
       "}\n",
       "\n",
       "#sk-container-id-1 div.sk-label.fitted input.sk-toggleable__control:checked~label.sk-toggleable__label {\n",
       "  background-color: var(--sklearn-color-fitted-level-2);\n",
       "}\n",
       "\n",
       "/* Estimator-specific style */\n",
       "\n",
       "/* Colorize estimator box */\n",
       "#sk-container-id-1 div.sk-estimator input.sk-toggleable__control:checked~label.sk-toggleable__label {\n",
       "  /* unfitted */\n",
       "  background-color: var(--sklearn-color-unfitted-level-2);\n",
       "}\n",
       "\n",
       "#sk-container-id-1 div.sk-estimator.fitted input.sk-toggleable__control:checked~label.sk-toggleable__label {\n",
       "  /* fitted */\n",
       "  background-color: var(--sklearn-color-fitted-level-2);\n",
       "}\n",
       "\n",
       "#sk-container-id-1 div.sk-label label.sk-toggleable__label,\n",
       "#sk-container-id-1 div.sk-label label {\n",
       "  /* The background is the default theme color */\n",
       "  color: var(--sklearn-color-text-on-default-background);\n",
       "}\n",
       "\n",
       "/* On hover, darken the color of the background */\n",
       "#sk-container-id-1 div.sk-label:hover label.sk-toggleable__label {\n",
       "  color: var(--sklearn-color-text);\n",
       "  background-color: var(--sklearn-color-unfitted-level-2);\n",
       "}\n",
       "\n",
       "/* Label box, darken color on hover, fitted */\n",
       "#sk-container-id-1 div.sk-label.fitted:hover label.sk-toggleable__label.fitted {\n",
       "  color: var(--sklearn-color-text);\n",
       "  background-color: var(--sklearn-color-fitted-level-2);\n",
       "}\n",
       "\n",
       "/* Estimator label */\n",
       "\n",
       "#sk-container-id-1 div.sk-label label {\n",
       "  font-family: monospace;\n",
       "  font-weight: bold;\n",
       "  display: inline-block;\n",
       "  line-height: 1.2em;\n",
       "}\n",
       "\n",
       "#sk-container-id-1 div.sk-label-container {\n",
       "  text-align: center;\n",
       "}\n",
       "\n",
       "/* Estimator-specific */\n",
       "#sk-container-id-1 div.sk-estimator {\n",
       "  font-family: monospace;\n",
       "  border: 1px dotted var(--sklearn-color-border-box);\n",
       "  border-radius: 0.25em;\n",
       "  box-sizing: border-box;\n",
       "  margin-bottom: 0.5em;\n",
       "  /* unfitted */\n",
       "  background-color: var(--sklearn-color-unfitted-level-0);\n",
       "}\n",
       "\n",
       "#sk-container-id-1 div.sk-estimator.fitted {\n",
       "  /* fitted */\n",
       "  background-color: var(--sklearn-color-fitted-level-0);\n",
       "}\n",
       "\n",
       "/* on hover */\n",
       "#sk-container-id-1 div.sk-estimator:hover {\n",
       "  /* unfitted */\n",
       "  background-color: var(--sklearn-color-unfitted-level-2);\n",
       "}\n",
       "\n",
       "#sk-container-id-1 div.sk-estimator.fitted:hover {\n",
       "  /* fitted */\n",
       "  background-color: var(--sklearn-color-fitted-level-2);\n",
       "}\n",
       "\n",
       "/* Specification for estimator info (e.g. \"i\" and \"?\") */\n",
       "\n",
       "/* Common style for \"i\" and \"?\" */\n",
       "\n",
       ".sk-estimator-doc-link,\n",
       "a:link.sk-estimator-doc-link,\n",
       "a:visited.sk-estimator-doc-link {\n",
       "  float: right;\n",
       "  font-size: smaller;\n",
       "  line-height: 1em;\n",
       "  font-family: monospace;\n",
       "  background-color: var(--sklearn-color-background);\n",
       "  border-radius: 1em;\n",
       "  height: 1em;\n",
       "  width: 1em;\n",
       "  text-decoration: none !important;\n",
       "  margin-left: 0.5em;\n",
       "  text-align: center;\n",
       "  /* unfitted */\n",
       "  border: var(--sklearn-color-unfitted-level-1) 1pt solid;\n",
       "  color: var(--sklearn-color-unfitted-level-1);\n",
       "}\n",
       "\n",
       ".sk-estimator-doc-link.fitted,\n",
       "a:link.sk-estimator-doc-link.fitted,\n",
       "a:visited.sk-estimator-doc-link.fitted {\n",
       "  /* fitted */\n",
       "  border: var(--sklearn-color-fitted-level-1) 1pt solid;\n",
       "  color: var(--sklearn-color-fitted-level-1);\n",
       "}\n",
       "\n",
       "/* On hover */\n",
       "div.sk-estimator:hover .sk-estimator-doc-link:hover,\n",
       ".sk-estimator-doc-link:hover,\n",
       "div.sk-label-container:hover .sk-estimator-doc-link:hover,\n",
       ".sk-estimator-doc-link:hover {\n",
       "  /* unfitted */\n",
       "  background-color: var(--sklearn-color-unfitted-level-3);\n",
       "  color: var(--sklearn-color-background);\n",
       "  text-decoration: none;\n",
       "}\n",
       "\n",
       "div.sk-estimator.fitted:hover .sk-estimator-doc-link.fitted:hover,\n",
       ".sk-estimator-doc-link.fitted:hover,\n",
       "div.sk-label-container:hover .sk-estimator-doc-link.fitted:hover,\n",
       ".sk-estimator-doc-link.fitted:hover {\n",
       "  /* fitted */\n",
       "  background-color: var(--sklearn-color-fitted-level-3);\n",
       "  color: var(--sklearn-color-background);\n",
       "  text-decoration: none;\n",
       "}\n",
       "\n",
       "/* Span, style for the box shown on hovering the info icon */\n",
       ".sk-estimator-doc-link span {\n",
       "  display: none;\n",
       "  z-index: 9999;\n",
       "  position: relative;\n",
       "  font-weight: normal;\n",
       "  right: .2ex;\n",
       "  padding: .5ex;\n",
       "  margin: .5ex;\n",
       "  width: min-content;\n",
       "  min-width: 20ex;\n",
       "  max-width: 50ex;\n",
       "  color: var(--sklearn-color-text);\n",
       "  box-shadow: 2pt 2pt 4pt #999;\n",
       "  /* unfitted */\n",
       "  background: var(--sklearn-color-unfitted-level-0);\n",
       "  border: .5pt solid var(--sklearn-color-unfitted-level-3);\n",
       "}\n",
       "\n",
       ".sk-estimator-doc-link.fitted span {\n",
       "  /* fitted */\n",
       "  background: var(--sklearn-color-fitted-level-0);\n",
       "  border: var(--sklearn-color-fitted-level-3);\n",
       "}\n",
       "\n",
       ".sk-estimator-doc-link:hover span {\n",
       "  display: block;\n",
       "}\n",
       "\n",
       "/* \"?\"-specific style due to the `<a>` HTML tag */\n",
       "\n",
       "#sk-container-id-1 a.estimator_doc_link {\n",
       "  float: right;\n",
       "  font-size: 1rem;\n",
       "  line-height: 1em;\n",
       "  font-family: monospace;\n",
       "  background-color: var(--sklearn-color-background);\n",
       "  border-radius: 1rem;\n",
       "  height: 1rem;\n",
       "  width: 1rem;\n",
       "  text-decoration: none;\n",
       "  /* unfitted */\n",
       "  color: var(--sklearn-color-unfitted-level-1);\n",
       "  border: var(--sklearn-color-unfitted-level-1) 1pt solid;\n",
       "}\n",
       "\n",
       "#sk-container-id-1 a.estimator_doc_link.fitted {\n",
       "  /* fitted */\n",
       "  border: var(--sklearn-color-fitted-level-1) 1pt solid;\n",
       "  color: var(--sklearn-color-fitted-level-1);\n",
       "}\n",
       "\n",
       "/* On hover */\n",
       "#sk-container-id-1 a.estimator_doc_link:hover {\n",
       "  /* unfitted */\n",
       "  background-color: var(--sklearn-color-unfitted-level-3);\n",
       "  color: var(--sklearn-color-background);\n",
       "  text-decoration: none;\n",
       "}\n",
       "\n",
       "#sk-container-id-1 a.estimator_doc_link.fitted:hover {\n",
       "  /* fitted */\n",
       "  background-color: var(--sklearn-color-fitted-level-3);\n",
       "}\n",
       "</style><div id=\"sk-container-id-1\" class=\"sk-top-container\"><div class=\"sk-text-repr-fallback\"><pre>LinearRegression()</pre><b>In a Jupyter environment, please rerun this cell to show the HTML representation or trust the notebook. <br />On GitHub, the HTML representation is unable to render, please try loading this page with nbviewer.org.</b></div><div class=\"sk-container\" hidden><div class=\"sk-item\"><div class=\"sk-estimator fitted sk-toggleable\"><input class=\"sk-toggleable__control sk-hidden--visually\" id=\"sk-estimator-id-1\" type=\"checkbox\" checked><label for=\"sk-estimator-id-1\" class=\"sk-toggleable__label fitted sk-toggleable__label-arrow\"><div><div>LinearRegression</div></div><div><a class=\"sk-estimator-doc-link fitted\" rel=\"noreferrer\" target=\"_blank\" href=\"https://scikit-learn.org/1.6/modules/generated/sklearn.linear_model.LinearRegression.html\">?<span>Documentation for LinearRegression</span></a><span class=\"sk-estimator-doc-link fitted\">i<span>Fitted</span></span></div></label><div class=\"sk-toggleable__content fitted\"><pre>LinearRegression()</pre></div> </div></div></div></div>"
      ],
      "text/plain": [
       "LinearRegression()"
      ]
     },
     "execution_count": 50,
     "metadata": {},
     "output_type": "execute_result"
    }
   ],
   "source": [
    "# import the algorithm\n",
    "from sklearn.linear_model import LinearRegression\n",
    "\n",
    "#initialise it\n",
    "model = LinearRegression()\n",
    "\n",
    "#train the model\n",
    "model.fit(x_train, y_train)"
   ]
  },
  {
   "cell_type": "code",
   "execution_count": null,
   "id": "390ce194",
   "metadata": {
    "id": "390ce194"
   },
   "outputs": [],
   "source": [
    "# we trained the model\n",
    "# we need to test the model for the performance\n",
    "# y_pred\n",
    "# for tetsing the model, we need to send the model with unseen records, x_test"
   ]
  },
  {
   "cell_type": "code",
   "execution_count": 51,
   "id": "b4e18de6",
   "metadata": {
    "id": "b4e18de6"
   },
   "outputs": [],
   "source": [
    "y_pred = model.predict(x_test)"
   ]
  },
  {
   "cell_type": "code",
   "execution_count": 52,
   "id": "9c63769f-2d88-4326-a2c3-071f3162372d",
   "metadata": {
    "id": "9c63769f-2d88-4326-a2c3-071f3162372d",
    "outputId": "a0ab7da0-ae76-407a-e177-d8a6bc27b271"
   },
   "outputs": [
    {
     "data": {
      "text/plain": [
       "array([16.23866583,  9.60953755, 19.68137088, 12.83173286,  7.74400821,\n",
       "       10.3918289 , 23.57574084,  9.04503761, 17.61296929, 13.62833907,\n",
       "       12.41684738, 14.61653736, 15.3709655 , 12.88624082, 12.44932825,\n",
       "       12.01757913, 16.19051982, 17.4737456 , 17.18797562, 21.68284171,\n",
       "       18.22249297,  8.90460934, 10.78546901, 12.01522967,  6.84780057,\n",
       "       13.6604905 , 22.1515455 , 13.51226396, 22.92864625, 11.8672777 ,\n",
       "       17.02641123, 21.51130851, 10.70654069,  7.85121105, 10.19458347,\n",
       "        8.43938167, 13.01574329, 10.7542018 , 12.16710471,  9.85395364,\n",
       "       15.45046899, 13.03786292,  5.83473761, 20.58855813, 22.47473215,\n",
       "       24.37221792, 14.37860644, 10.92277932, 16.36232327, 18.12905809,\n",
       "       11.43374303, 14.72365347, 16.93551195,  8.96216107, 19.50558157,\n",
       "       10.88679726, 22.75200786, 21.19100378, 15.71811589, 14.87529081])"
      ]
     },
     "execution_count": 52,
     "metadata": {},
     "output_type": "execute_result"
    }
   ],
   "source": [
    "y_pred"
   ]
  },
  {
   "cell_type": "code",
   "execution_count": 53,
   "id": "8c2e9fc7-eafa-4c4b-995a-50aa02f6dab1",
   "metadata": {
    "id": "8c2e9fc7-eafa-4c4b-995a-50aa02f6dab1",
    "outputId": "00b4c0df-03e5-47d1-8cd5-52bab459b6e3"
   },
   "outputs": [
    {
     "data": {
      "text/plain": [
       "40     16.6\n",
       "51     10.7\n",
       "139    20.7\n",
       "197    12.8\n",
       "170     8.4\n",
       "82     11.3\n",
       "183    26.2\n",
       "46     10.6\n",
       "70     18.3\n",
       "100    11.7\n",
       "179    12.6\n",
       "83     13.6\n",
       "25     12.0\n",
       "190    10.8\n",
       "159    12.9\n",
       "173    11.7\n",
       "95     16.9\n",
       "3      18.5\n",
       "41     17.1\n",
       "58     23.8\n",
       "14     19.0\n",
       "143    10.4\n",
       "12      9.2\n",
       "6      11.8\n",
       "182     8.7\n",
       "161    13.3\n",
       "128    24.7\n",
       "122    11.6\n",
       "101    23.8\n",
       "86     12.0\n",
       "64     18.0\n",
       "47     23.2\n",
       "158     7.3\n",
       "34      9.5\n",
       "38     10.1\n",
       "196     9.7\n",
       "4      12.9\n",
       "72      8.8\n",
       "67     13.4\n",
       "145    10.3\n",
       "156    15.3\n",
       "115    12.6\n",
       "155     3.2\n",
       "15     22.4\n",
       "61     24.2\n",
       "175    27.0\n",
       "120    15.5\n",
       "130     1.6\n",
       "23     15.5\n",
       "153    19.0\n",
       "31     11.9\n",
       "103    14.7\n",
       "89     16.7\n",
       "132     5.7\n",
       "109    19.8\n",
       "126     6.6\n",
       "17     24.4\n",
       "30     21.4\n",
       "178    11.8\n",
       "162    14.9\n",
       "Name: Sales, dtype: float64"
      ]
     },
     "execution_count": 53,
     "metadata": {},
     "output_type": "execute_result"
    }
   ],
   "source": [
    "y_test"
   ]
  },
  {
   "cell_type": "code",
   "execution_count": 54,
   "id": "40f6b3e3",
   "metadata": {
    "id": "40f6b3e3",
    "outputId": "1d31c6e8-7dda-406f-e213-8bbc46f6ec72"
   },
   "outputs": [
    {
     "data": {
      "text/plain": [
       "array([ 0.04298258,  0.1874719 , -0.00501022])"
      ]
     },
     "execution_count": 54,
     "metadata": {},
     "output_type": "execute_result"
    }
   ],
   "source": [
    "# slopes # 3 slope values are given?\n",
    "# m1 x1 + m2 x2 + m3 x3 + C = y # since we have 3 input values 3 slopes#\n",
    "model.coef_"
   ]
  },
  {
   "cell_type": "code",
   "execution_count": 55,
   "id": "f17015be",
   "metadata": {
    "id": "f17015be",
    "outputId": "28e16ea3-7d8c-4abe-8b66-6d6bb35cbb70"
   },
   "outputs": [
    {
     "data": {
      "text/plain": [
       "np.float64(3.5123932602876327)"
      ]
     },
     "execution_count": 55,
     "metadata": {},
     "output_type": "execute_result"
    }
   ],
   "source": [
    "#intercept\n",
    "model.intercept_"
   ]
  },
  {
   "cell_type": "code",
   "execution_count": 56,
   "id": "81198f73",
   "metadata": {
    "id": "81198f73",
    "outputId": "0fb30970-f425-4898-8e79-8abf5812a08a"
   },
   "outputs": [
    {
     "data": {
      "text/plain": [
       "array([20.83347957])"
      ]
     },
     "execution_count": 56,
     "metadata": {},
     "output_type": "execute_result"
    }
   ],
   "source": [
    "#user defined values for the prediction\n",
    "# TV 100 , Radio 70 Newspaper = 20\n",
    "model.predict([[100,70,20]])"
   ]
  },
  {
   "cell_type": "code",
   "execution_count": null,
   "id": "8876f88c",
   "metadata": {
    "id": "8876f88c"
   },
   "outputs": [],
   "source": [
    "# Erros / loss functions\n",
    "# Error = Actual - predicted value\n",
    "# MSE\n",
    "# MAE\n",
    "# RMSE\n",
    "# takes 2 parameters y_test, y_pred"
   ]
  },
  {
   "cell_type": "code",
   "execution_count": 57,
   "id": "7f7b1988",
   "metadata": {
    "id": "7f7b1988"
   },
   "outputs": [],
   "source": [
    "from sklearn.metrics import mean_squared_error, mean_absolute_error, r2_score"
   ]
  },
  {
   "cell_type": "code",
   "execution_count": 58,
   "id": "7290e826",
   "metadata": {
    "id": "7290e826",
    "outputId": "8458f2c2-ed21-4215-c16a-2e5aeae5244a"
   },
   "outputs": [
    {
     "data": {
      "text/plain": [
       "4.0481139750156325"
      ]
     },
     "execution_count": 58,
     "metadata": {},
     "output_type": "execute_result"
    }
   ],
   "source": [
    "mse = mean_squared_error(y_test,y_pred)\n",
    "mse"
   ]
  },
  {
   "cell_type": "code",
   "execution_count": 59,
   "id": "3c23ef84",
   "metadata": {
    "id": "3c23ef84",
    "outputId": "462507a2-0555-455f-e22c-05d25d0ccf23"
   },
   "outputs": [
    {
     "data": {
      "text/plain": [
       "1.3788886620041025"
      ]
     },
     "execution_count": 59,
     "metadata": {},
     "output_type": "execute_result"
    }
   ],
   "source": [
    "mae = mean_absolute_error(y_test,y_pred)\n",
    "mae"
   ]
  },
  {
   "cell_type": "code",
   "execution_count": 60,
   "id": "ac4e53e4",
   "metadata": {
    "id": "ac4e53e4",
    "outputId": "38b962fd-5428-4b7a-f7ab-7dfc6529429b"
   },
   "outputs": [
    {
     "data": {
      "text/plain": [
       "np.float64(2.011992538508936)"
      ]
     },
     "execution_count": 60,
     "metadata": {},
     "output_type": "execute_result"
    }
   ],
   "source": [
    "rmse = np.sqrt(mse)\n",
    "rmse"
   ]
  },
  {
   "cell_type": "code",
   "execution_count": 61,
   "id": "daf20613",
   "metadata": {
    "id": "daf20613",
    "outputId": "d0d72014-95a0-4a14-d514-f385801a4284"
   },
   "outputs": [
    {
     "data": {
      "text/plain": [
       "0.8768045255102057"
      ]
     },
     "execution_count": 61,
     "metadata": {},
     "output_type": "execute_result"
    }
   ],
   "source": [
    "r2_score(y_test,y_pred)"
   ]
  },
  {
   "cell_type": "code",
   "execution_count": null,
   "id": "0a61add6",
   "metadata": {
    "id": "0a61add6"
   },
   "outputs": [],
   "source": [
    "# 88% is the r2 score\n",
    "# this signifies, the over all perfomance of the model is good\n",
    "# 87% of the records are predicted correctly\n",
    "# 12% of data is predicted wrong"
   ]
  },
  {
   "cell_type": "code",
   "execution_count": null,
   "id": "52bd7f01-8aaf-411b-bb30-39132258f017",
   "metadata": {
    "id": "52bd7f01-8aaf-411b-bb30-39132258f017",
    "outputId": "bcb0fed7-e340-4611-8dd6-b185a93e7ce4"
   },
   "outputs": [],
   "source": [
    "x"
   ]
  },
  {
   "cell_type": "code",
   "execution_count": null,
   "id": "ec43a253-8b43-4ac5-a97d-25b7259c525b",
   "metadata": {
    "id": "ec43a253-8b43-4ac5-a97d-25b7259c525b"
   },
   "outputs": [],
   "source": []
  },
  {
   "cell_type": "code",
   "execution_count": null,
   "id": "638ed189-1bda-4335-88e3-be8c77df76f8",
   "metadata": {
    "id": "638ed189-1bda-4335-88e3-be8c77df76f8"
   },
   "outputs": [],
   "source": []
  },
  {
   "cell_type": "code",
   "execution_count": null,
   "id": "546a5d1b-97ed-4c8c-8190-6cef4cd5f7c0",
   "metadata": {
    "id": "546a5d1b-97ed-4c8c-8190-6cef4cd5f7c0"
   },
   "outputs": [],
   "source": []
  },
  {
   "cell_type": "code",
   "execution_count": null,
   "id": "aa2bc179-d0b8-4455-b49c-b526c58a7e8a",
   "metadata": {
    "id": "aa2bc179-d0b8-4455-b49c-b526c58a7e8a"
   },
   "outputs": [],
   "source": []
  },
  {
   "cell_type": "code",
   "execution_count": null,
   "id": "d9dad4b2-f7fa-45b8-bf45-9bdd56e6d14f",
   "metadata": {
    "id": "d9dad4b2-f7fa-45b8-bf45-9bdd56e6d14f"
   },
   "outputs": [],
   "source": []
  },
  {
   "cell_type": "code",
   "execution_count": null,
   "id": "237b2b32-2fad-4311-bf6e-01339abe3974",
   "metadata": {
    "id": "237b2b32-2fad-4311-bf6e-01339abe3974"
   },
   "outputs": [],
   "source": []
  }
 ],
 "metadata": {
  "colab": {
   "provenance": []
  },
  "kernelspec": {
   "display_name": "Python 3 (ipykernel)",
   "language": "python",
   "name": "python3"
  },
  "language_info": {
   "codemirror_mode": {
    "name": "ipython",
    "version": 3
   },
   "file_extension": ".py",
   "mimetype": "text/x-python",
   "name": "python",
   "nbconvert_exporter": "python",
   "pygments_lexer": "ipython3",
   "version": "3.12.7"
  }
 },
 "nbformat": 4,
 "nbformat_minor": 5
}
