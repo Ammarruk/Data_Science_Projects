{
 "cells": [
  {
   "cell_type": "code",
   "execution_count": 2,
   "id": "73fd8785",
   "metadata": {},
   "outputs": [],
   "source": [
    "import numpy as np"
   ]
  },
  {
   "cell_type": "markdown",
   "id": "b345d441",
   "metadata": {},
   "source": [
    "# Creating a 2-D array"
   ]
  },
  {
   "cell_type": "code",
   "execution_count": 6,
   "id": "e71becea",
   "metadata": {},
   "outputs": [
    {
     "data": {
      "text/plain": [
       "array([[1, 2, 3],\n",
       "       [3, 4, 5],\n",
       "       [4, 5, 6]])"
      ]
     },
     "execution_count": 6,
     "metadata": {},
     "output_type": "execute_result"
    }
   ],
   "source": [
    "lst=[[1,2,3],[3,4,5],[4,5,6]]\n",
    "\n",
    "x=np.array(lst)\n",
    "x"
   ]
  },
  {
   "cell_type": "code",
   "execution_count": 4,
   "id": "4ef85244",
   "metadata": {},
   "outputs": [
    {
     "data": {
      "text/plain": [
       "2"
      ]
     },
     "execution_count": 4,
     "metadata": {},
     "output_type": "execute_result"
    }
   ],
   "source": [
    "x.ndim"
   ]
  },
  {
   "cell_type": "code",
   "execution_count": 7,
   "id": "f2fe5b50",
   "metadata": {},
   "outputs": [
    {
     "data": {
      "text/plain": [
       "(3, 3)"
      ]
     },
     "execution_count": 7,
     "metadata": {},
     "output_type": "execute_result"
    }
   ],
   "source": [
    "x.shape"
   ]
  },
  {
   "cell_type": "code",
   "execution_count": 8,
   "id": "dc84c7b3",
   "metadata": {},
   "outputs": [
    {
     "data": {
      "text/plain": [
       "array([10, 20, 30, 40])"
      ]
     },
     "execution_count": 8,
     "metadata": {},
     "output_type": "execute_result"
    }
   ],
   "source": [
    "lst=[10,20,30,40]\n",
    "\n",
    "x=np.array(lst)\n",
    "x"
   ]
  },
  {
   "cell_type": "code",
   "execution_count": 9,
   "id": "73322c26",
   "metadata": {},
   "outputs": [
    {
     "data": {
      "text/plain": [
       "1"
      ]
     },
     "execution_count": 9,
     "metadata": {},
     "output_type": "execute_result"
    }
   ],
   "source": [
    "x.ndim"
   ]
  },
  {
   "cell_type": "code",
   "execution_count": 10,
   "id": "488a114a",
   "metadata": {},
   "outputs": [
    {
     "data": {
      "text/plain": [
       "array([[1, 2, 3],\n",
       "       [3, 4, 5],\n",
       "       [4, 5, 6],\n",
       "       [7, 8, 9]])"
      ]
     },
     "execution_count": 10,
     "metadata": {},
     "output_type": "execute_result"
    }
   ],
   "source": [
    "lst=[[1,2,3],[3,4,5],[4,5,6],[7,8,9]]\n",
    "\n",
    "y=np.array(lst)\n",
    "y"
   ]
  },
  {
   "cell_type": "code",
   "execution_count": null,
   "id": "5530998e",
   "metadata": {},
   "outputs": [],
   "source": [
    "y.ndim"
   ]
  },
  {
   "cell_type": "code",
   "execution_count": null,
   "id": "af292d5c",
   "metadata": {},
   "outputs": [],
   "source": [
    "y.shape"
   ]
  },
  {
   "cell_type": "markdown",
   "id": "140ac2a6",
   "metadata": {},
   "source": [
    "# By reshaping"
   ]
  },
  {
   "cell_type": "code",
   "execution_count": 11,
   "id": "8464df8e",
   "metadata": {},
   "outputs": [],
   "source": [
    "# create a 3*5 array\n",
    "\n",
    "x=np.random.randint(10,100,15).reshape(3,5)"
   ]
  },
  {
   "cell_type": "code",
   "execution_count": 12,
   "id": "fac01b7d",
   "metadata": {},
   "outputs": [
    {
     "data": {
      "text/plain": [
       "array([[59, 79, 74, 91, 83],\n",
       "       [11, 24, 29, 90, 59],\n",
       "       [24, 52, 80, 81, 55]], dtype=int32)"
      ]
     },
     "execution_count": 12,
     "metadata": {},
     "output_type": "execute_result"
    }
   ],
   "source": [
    "x"
   ]
  },
  {
   "cell_type": "code",
   "execution_count": 13,
   "id": "e47c6708",
   "metadata": {},
   "outputs": [
    {
     "data": {
      "text/plain": [
       "2"
      ]
     },
     "execution_count": 13,
     "metadata": {},
     "output_type": "execute_result"
    }
   ],
   "source": [
    "x.ndim"
   ]
  },
  {
   "cell_type": "code",
   "execution_count": 14,
   "id": "dfaa716e",
   "metadata": {},
   "outputs": [
    {
     "data": {
      "text/plain": [
       "(3, 5)"
      ]
     },
     "execution_count": 14,
     "metadata": {},
     "output_type": "execute_result"
    }
   ],
   "source": [
    "x.shape"
   ]
  },
  {
   "cell_type": "code",
   "execution_count": 15,
   "id": "b965c500",
   "metadata": {},
   "outputs": [
    {
     "data": {
      "text/plain": [
       "array([149, 191, 143, 153,  58,  37,  81,  22,  42, 184, 197, 125, 113,\n",
       "        94,  17,  79,  81, 192,  44,  52], dtype=int32)"
      ]
     },
     "execution_count": 15,
     "metadata": {},
     "output_type": "execute_result"
    }
   ],
   "source": [
    "x=np.random.randint(10,200,20)\n",
    "x"
   ]
  },
  {
   "cell_type": "code",
   "execution_count": null,
   "id": "592bfc26",
   "metadata": {},
   "outputs": [],
   "source": [
    "x.ndim"
   ]
  },
  {
   "cell_type": "code",
   "execution_count": null,
   "id": "3a5ab235",
   "metadata": {},
   "outputs": [],
   "source": [
    "x=np.random.randint(10,200,20).reshape(4,5)\n",
    "x"
   ]
  },
  {
   "cell_type": "code",
   "execution_count": null,
   "id": "199f677d",
   "metadata": {},
   "outputs": [],
   "source": [
    "x.ndim"
   ]
  },
  {
   "cell_type": "markdown",
   "id": "fbdeccfe",
   "metadata": {},
   "source": [
    "# Creating a 3-D array"
   ]
  },
  {
   "cell_type": "markdown",
   "id": "ce821023",
   "metadata": {},
   "source": [
    "* When we repeat a 2-D array then we get a 3-D array"
   ]
  },
  {
   "cell_type": "code",
   "execution_count": 16,
   "id": "71759c49",
   "metadata": {},
   "outputs": [
    {
     "data": {
      "text/plain": [
       "[[[10, 20], [30, 10], [50, 60]]]"
      ]
     },
     "execution_count": 16,
     "metadata": {},
     "output_type": "execute_result"
    }
   ],
   "source": [
    "lst=[[[10,20],[30,10],[50,60]]]\n",
    "lst"
   ]
  },
  {
   "cell_type": "code",
   "execution_count": 24,
   "id": "1d466930-003f-475d-8e54-f2cff47a77bc",
   "metadata": {},
   "outputs": [
    {
     "data": {
      "text/plain": [
       "[[[10, 20, 70], [30, 10, 90]], [[50, 60, 100], [70, 80, 80]]]"
      ]
     },
     "execution_count": 24,
     "metadata": {},
     "output_type": "execute_result"
    }
   ],
   "source": [
    "lst=[[[10,20,70],[30,10,90]],[[50,60,100],[70,80,80]]]\n",
    "lst"
   ]
  },
  {
   "cell_type": "code",
   "execution_count": 25,
   "id": "0e7d5326-5af8-4619-a5d0-04977ff17d87",
   "metadata": {},
   "outputs": [
    {
     "data": {
      "text/plain": [
       "array([[[ 10,  20,  70],\n",
       "        [ 30,  10,  90]],\n",
       "\n",
       "       [[ 50,  60, 100],\n",
       "        [ 70,  80,  80]]])"
      ]
     },
     "execution_count": 25,
     "metadata": {},
     "output_type": "execute_result"
    }
   ],
   "source": [
    "x=np.array(lst)\n",
    "x"
   ]
  },
  {
   "cell_type": "code",
   "execution_count": 17,
   "id": "27f3f86f",
   "metadata": {},
   "outputs": [
    {
     "data": {
      "text/plain": [
       "array([[[10, 20],\n",
       "        [30, 10],\n",
       "        [50, 60]]])"
      ]
     },
     "execution_count": 17,
     "metadata": {},
     "output_type": "execute_result"
    }
   ],
   "source": [
    "x=np.array(lst)\n",
    "x"
   ]
  },
  {
   "cell_type": "code",
   "execution_count": 18,
   "id": "ad94afab",
   "metadata": {},
   "outputs": [
    {
     "data": {
      "text/plain": [
       "3"
      ]
     },
     "execution_count": 18,
     "metadata": {},
     "output_type": "execute_result"
    }
   ],
   "source": [
    "x.ndim"
   ]
  },
  {
   "cell_type": "code",
   "execution_count": 19,
   "id": "26cde634",
   "metadata": {},
   "outputs": [
    {
     "data": {
      "text/plain": [
       "(1, 3, 2)"
      ]
     },
     "execution_count": 19,
     "metadata": {},
     "output_type": "execute_result"
    }
   ],
   "source": [
    "x.shape"
   ]
  },
  {
   "cell_type": "code",
   "execution_count": 20,
   "id": "3c134cf7",
   "metadata": {},
   "outputs": [],
   "source": [
    "# create a 2*2*2 array\n",
    "y=np.array([[[1,2],[3,4]],[[7,8],[2,6]]])"
   ]
  },
  {
   "cell_type": "code",
   "execution_count": 21,
   "id": "35e186e7",
   "metadata": {},
   "outputs": [
    {
     "data": {
      "text/plain": [
       "array([[[1, 2],\n",
       "        [3, 4]],\n",
       "\n",
       "       [[7, 8],\n",
       "        [2, 6]]])"
      ]
     },
     "execution_count": 21,
     "metadata": {},
     "output_type": "execute_result"
    }
   ],
   "source": [
    "y"
   ]
  },
  {
   "cell_type": "code",
   "execution_count": null,
   "id": "bbbf33d9",
   "metadata": {
    "scrolled": true
   },
   "outputs": [],
   "source": [
    "y.ndim"
   ]
  },
  {
   "cell_type": "code",
   "execution_count": null,
   "id": "20028b54",
   "metadata": {},
   "outputs": [],
   "source": [
    "y.shape"
   ]
  },
  {
   "cell_type": "code",
   "execution_count": 26,
   "id": "549df26a",
   "metadata": {},
   "outputs": [
    {
     "data": {
      "text/plain": [
       "[[[10, 20], [12, 24], [45, 65], [87, 32]],\n",
       " [[10, 20], [12, 24], [45, 65], [87, 32]]]"
      ]
     },
     "execution_count": 26,
     "metadata": {},
     "output_type": "execute_result"
    }
   ],
   "source": [
    "# create a 2*4*2\n",
    "\n",
    "lst=[[[10,20],[12,24],[45,65],[87,32]],[[10,20],[12,24],[45,65],[87,32]]]\n",
    "lst"
   ]
  },
  {
   "cell_type": "code",
   "execution_count": 27,
   "id": "6bd59165",
   "metadata": {},
   "outputs": [
    {
     "data": {
      "text/plain": [
       "array([[[10, 20],\n",
       "        [12, 24],\n",
       "        [45, 65],\n",
       "        [87, 32]],\n",
       "\n",
       "       [[10, 20],\n",
       "        [12, 24],\n",
       "        [45, 65],\n",
       "        [87, 32]]])"
      ]
     },
     "execution_count": 27,
     "metadata": {},
     "output_type": "execute_result"
    }
   ],
   "source": [
    "x=np.array(lst)\n",
    "x"
   ]
  },
  {
   "cell_type": "code",
   "execution_count": null,
   "id": "60b15c17",
   "metadata": {},
   "outputs": [],
   "source": [
    "x.shape"
   ]
  },
  {
   "cell_type": "code",
   "execution_count": 28,
   "id": "ebae0313",
   "metadata": {},
   "outputs": [
    {
     "data": {
      "text/plain": [
       "[[[10, 20], [12, 24], [45, 65], [87, 32]],\n",
       " [[10, 20], [12, 24], [45, 65], [87, 32]],\n",
       " [[10, 20], [12, 24], [45, 65], [87, 32]]]"
      ]
     },
     "execution_count": 28,
     "metadata": {},
     "output_type": "execute_result"
    }
   ],
   "source": [
    "# create 3*4*2\n",
    "\n",
    "lst=[[[10,20],[12,24],[45,65],[87,32]],[[10,20],[12,24],[45,65],[87,32]],[[10,20],[12,24],[45,65],[87,32]]]\n",
    "lst"
   ]
  },
  {
   "cell_type": "code",
   "execution_count": 29,
   "id": "09010088",
   "metadata": {},
   "outputs": [
    {
     "data": {
      "text/plain": [
       "array([[[10, 20],\n",
       "        [12, 24],\n",
       "        [45, 65],\n",
       "        [87, 32]],\n",
       "\n",
       "       [[10, 20],\n",
       "        [12, 24],\n",
       "        [45, 65],\n",
       "        [87, 32]],\n",
       "\n",
       "       [[10, 20],\n",
       "        [12, 24],\n",
       "        [45, 65],\n",
       "        [87, 32]]])"
      ]
     },
     "execution_count": 29,
     "metadata": {},
     "output_type": "execute_result"
    }
   ],
   "source": [
    "y=np.array(lst)\n",
    "y"
   ]
  },
  {
   "cell_type": "code",
   "execution_count": 30,
   "id": "2ff8a407",
   "metadata": {},
   "outputs": [
    {
     "data": {
      "text/plain": [
       "(3, 4, 2)"
      ]
     },
     "execution_count": 30,
     "metadata": {},
     "output_type": "execute_result"
    }
   ],
   "source": [
    "y.shape"
   ]
  },
  {
   "cell_type": "markdown",
   "id": "4984a6ba",
   "metadata": {},
   "source": [
    "# By reshaping"
   ]
  },
  {
   "cell_type": "code",
   "execution_count": null,
   "id": "57f781f3",
   "metadata": {},
   "outputs": [],
   "source": [
    "#arr.reshape(arrays,rows,cols)"
   ]
  },
  {
   "cell_type": "code",
   "execution_count": 31,
   "id": "d4203457",
   "metadata": {},
   "outputs": [
    {
     "data": {
      "text/plain": [
       "array([[[67, 68, 31, 81, 43],\n",
       "        [49, 93, 42, 77, 38],\n",
       "        [87, 68, 78, 13, 67],\n",
       "        [26, 36, 34, 24, 28]],\n",
       "\n",
       "       [[40, 16, 69, 46, 67],\n",
       "        [88, 31, 25, 97, 75],\n",
       "        [43, 30, 93, 31, 58],\n",
       "        [27, 27, 96, 24, 21]],\n",
       "\n",
       "       [[97, 16, 33, 13, 91],\n",
       "        [16, 66, 37, 31, 70],\n",
       "        [20, 56, 72, 92, 21],\n",
       "        [82, 30, 18, 46, 73]]], dtype=int32)"
      ]
     },
     "execution_count": 31,
     "metadata": {},
     "output_type": "execute_result"
    }
   ],
   "source": [
    "# create a 3*4*5 array of random int values between 10 and 100\n",
    "x=np.random.randint(10,100,60).reshape(3,4,5)\n",
    "x"
   ]
  },
  {
   "cell_type": "code",
   "execution_count": 32,
   "id": "d6ff76a5",
   "metadata": {},
   "outputs": [
    {
     "data": {
      "text/plain": [
       "3"
      ]
     },
     "execution_count": 32,
     "metadata": {},
     "output_type": "execute_result"
    }
   ],
   "source": [
    "x.ndim"
   ]
  },
  {
   "cell_type": "code",
   "execution_count": 33,
   "id": "e998585b",
   "metadata": {},
   "outputs": [
    {
     "data": {
      "text/plain": [
       "(3, 4, 5)"
      ]
     },
     "execution_count": 33,
     "metadata": {},
     "output_type": "execute_result"
    }
   ],
   "source": [
    "x.shape"
   ]
  },
  {
   "cell_type": "markdown",
   "id": "b4002dcd",
   "metadata": {},
   "source": [
    "# Indexing and slicing of 1-D arrays"
   ]
  },
  {
   "cell_type": "code",
   "execution_count": null,
   "id": "53593c79",
   "metadata": {},
   "outputs": [],
   "source": [
    "# - it is the same as list"
   ]
  },
  {
   "cell_type": "code",
   "execution_count": 34,
   "id": "f1ed8264",
   "metadata": {},
   "outputs": [
    {
     "data": {
      "text/plain": [
       "[1, 2, 3]"
      ]
     },
     "execution_count": 34,
     "metadata": {},
     "output_type": "execute_result"
    }
   ],
   "source": [
    "lst=[1,2,3]\n",
    "lst"
   ]
  },
  {
   "cell_type": "code",
   "execution_count": 35,
   "id": "41b16a28",
   "metadata": {},
   "outputs": [
    {
     "data": {
      "text/plain": [
       "2"
      ]
     },
     "execution_count": 35,
     "metadata": {},
     "output_type": "execute_result"
    }
   ],
   "source": [
    "lst[1]"
   ]
  },
  {
   "cell_type": "code",
   "execution_count": 36,
   "id": "a0280aed",
   "metadata": {},
   "outputs": [
    {
     "data": {
      "text/plain": [
       "2"
      ]
     },
     "execution_count": 36,
     "metadata": {},
     "output_type": "execute_result"
    }
   ],
   "source": [
    "lst[-2]"
   ]
  },
  {
   "cell_type": "code",
   "execution_count": 37,
   "id": "db13d218",
   "metadata": {},
   "outputs": [
    {
     "data": {
      "text/plain": [
       "array([10, 20, 30, 40, 50, 60])"
      ]
     },
     "execution_count": 37,
     "metadata": {},
     "output_type": "execute_result"
    }
   ],
   "source": [
    "x=np.array([10,20,30,40,50,60])\n",
    "x"
   ]
  },
  {
   "cell_type": "code",
   "execution_count": 41,
   "id": "0ba9b6aa",
   "metadata": {},
   "outputs": [
    {
     "data": {
      "text/plain": [
       "np.int64(60)"
      ]
     },
     "execution_count": 41,
     "metadata": {},
     "output_type": "execute_result"
    }
   ],
   "source": [
    "x[-1]"
   ]
  },
  {
   "cell_type": "code",
   "execution_count": null,
   "id": "0728e27f",
   "metadata": {},
   "outputs": [],
   "source": [
    "x[-6]"
   ]
  },
  {
   "cell_type": "code",
   "execution_count": null,
   "id": "8c85536c",
   "metadata": {},
   "outputs": [],
   "source": [
    "x[3]"
   ]
  },
  {
   "cell_type": "code",
   "execution_count": null,
   "id": "c8581e5d",
   "metadata": {},
   "outputs": [],
   "source": [
    "x[-3]"
   ]
  },
  {
   "cell_type": "markdown",
   "id": "9410fc02",
   "metadata": {},
   "source": [
    "# slicing"
   ]
  },
  {
   "cell_type": "code",
   "execution_count": null,
   "id": "3da6195c",
   "metadata": {},
   "outputs": [],
   "source": [
    "#arr[start_index:stop_index:step_size]\n",
    "# stop_index us excluded\n",
    "# The default step_size is 1"
   ]
  },
  {
   "cell_type": "code",
   "execution_count": 42,
   "id": "51724b12",
   "metadata": {},
   "outputs": [
    {
     "data": {
      "text/plain": [
       "array([10, 20, 30, 40, 50, 60])"
      ]
     },
     "execution_count": 42,
     "metadata": {},
     "output_type": "execute_result"
    }
   ],
   "source": [
    "x"
   ]
  },
  {
   "cell_type": "code",
   "execution_count": 43,
   "id": "13dc8dc6",
   "metadata": {},
   "outputs": [
    {
     "data": {
      "text/plain": [
       "array([10, 20, 30])"
      ]
     },
     "execution_count": 43,
     "metadata": {},
     "output_type": "execute_result"
    }
   ],
   "source": [
    "# fetch the first 3 elements\n",
    "x[0:3]"
   ]
  },
  {
   "cell_type": "code",
   "execution_count": null,
   "id": "2c0231a4",
   "metadata": {},
   "outputs": [],
   "source": [
    "x[0:3:1]"
   ]
  },
  {
   "cell_type": "code",
   "execution_count": 45,
   "id": "bd4d56a2",
   "metadata": {},
   "outputs": [
    {
     "data": {
      "text/plain": [
       "array([10, 20, 30])"
      ]
     },
     "execution_count": 45,
     "metadata": {},
     "output_type": "execute_result"
    }
   ],
   "source": [
    "x[:3]"
   ]
  },
  {
   "cell_type": "code",
   "execution_count": 44,
   "id": "fc3c7fcc",
   "metadata": {},
   "outputs": [
    {
     "data": {
      "text/plain": [
       "array([30, 40, 50])"
      ]
     },
     "execution_count": 44,
     "metadata": {},
     "output_type": "execute_result"
    }
   ],
   "source": [
    "x[2:5:]"
   ]
  },
  {
   "cell_type": "markdown",
   "id": "1a865c95",
   "metadata": {},
   "source": [
    "# Indexing and slicing of 2-D arrays"
   ]
  },
  {
   "cell_type": "markdown",
   "id": "46317ef0",
   "metadata": {},
   "source": [
    "# Indexing"
   ]
  },
  {
   "cell_type": "code",
   "execution_count": 46,
   "id": "98a5aa4c",
   "metadata": {},
   "outputs": [
    {
     "data": {
      "text/plain": [
       "array([[83, 70, 46, 77, 39],\n",
       "       [37, 19, 65, 33, 49],\n",
       "       [99, 59, 29, 28, 66]], dtype=int32)"
      ]
     },
     "execution_count": 46,
     "metadata": {},
     "output_type": "execute_result"
    }
   ],
   "source": [
    "np.random.seed(127)\n",
    "x=np.random.randint(10,100,15).reshape(3,5)\n",
    "x"
   ]
  },
  {
   "cell_type": "code",
   "execution_count": null,
   "id": "b5afca5b",
   "metadata": {},
   "outputs": [],
   "source": [
    "#arr[row_index]\n",
    "#arr[row_index,col_index]"
   ]
  },
  {
   "cell_type": "code",
   "execution_count": null,
   "id": "0376a72e",
   "metadata": {},
   "outputs": [],
   "source": [
    "# [83, 70, 46, 77, 39]"
   ]
  },
  {
   "cell_type": "code",
   "execution_count": 47,
   "id": "2ab759e1",
   "metadata": {},
   "outputs": [
    {
     "data": {
      "text/plain": [
       "array([83, 70, 46, 77, 39], dtype=int32)"
      ]
     },
     "execution_count": 47,
     "metadata": {},
     "output_type": "execute_result"
    }
   ],
   "source": [
    "x[0]"
   ]
  },
  {
   "cell_type": "code",
   "execution_count": 48,
   "id": "3c022439",
   "metadata": {},
   "outputs": [
    {
     "data": {
      "text/plain": [
       "array([83, 70, 46, 77, 39], dtype=int32)"
      ]
     },
     "execution_count": 48,
     "metadata": {},
     "output_type": "execute_result"
    }
   ],
   "source": [
    "x[-3]"
   ]
  },
  {
   "cell_type": "code",
   "execution_count": null,
   "id": "79f30d46",
   "metadata": {},
   "outputs": [],
   "source": [
    "# [99, 59, 29, 28, 66]\n",
    "print(x[2])\n",
    "print(x[-1])"
   ]
  },
  {
   "cell_type": "code",
   "execution_count": 49,
   "id": "73055d8d",
   "metadata": {},
   "outputs": [
    {
     "data": {
      "text/plain": [
       "np.int32(19)"
      ]
     },
     "execution_count": 49,
     "metadata": {},
     "output_type": "execute_result"
    }
   ],
   "source": [
    "x[1,1]"
   ]
  },
  {
   "cell_type": "code",
   "execution_count": null,
   "id": "9418ed76",
   "metadata": {},
   "outputs": [],
   "source": [
    "x[2,2]"
   ]
  },
  {
   "cell_type": "code",
   "execution_count": null,
   "id": "3a59fd46",
   "metadata": {},
   "outputs": [],
   "source": [
    "x[1,4]"
   ]
  },
  {
   "cell_type": "code",
   "execution_count": null,
   "id": "e1661960",
   "metadata": {},
   "outputs": [],
   "source": [
    "x[0,3]"
   ]
  },
  {
   "cell_type": "code",
   "execution_count": null,
   "id": "f1c68632",
   "metadata": {},
   "outputs": [],
   "source": [
    "# Slicing"
   ]
  },
  {
   "cell_type": "code",
   "execution_count": null,
   "id": "29ab069e",
   "metadata": {},
   "outputs": [],
   "source": [
    "# arr[row_slicing]\n",
    "#arr[start:stop:step_size]"
   ]
  },
  {
   "cell_type": "code",
   "execution_count": null,
   "id": "2e12c9c1",
   "metadata": {},
   "outputs": [],
   "source": [
    "x"
   ]
  },
  {
   "cell_type": "code",
   "execution_count": null,
   "id": "c996a39f",
   "metadata": {},
   "outputs": [],
   "source": [
    "# [83, 70, 46, 77, 39],\n",
    " # [37, 19, 65, 33, 49]"
   ]
  },
  {
   "cell_type": "code",
   "execution_count": 50,
   "id": "504dff6b",
   "metadata": {},
   "outputs": [
    {
     "data": {
      "text/plain": [
       "array([[83, 70, 46, 77, 39],\n",
       "       [37, 19, 65, 33, 49]], dtype=int32)"
      ]
     },
     "execution_count": 50,
     "metadata": {},
     "output_type": "execute_result"
    }
   ],
   "source": [
    "x[0:2:1]"
   ]
  },
  {
   "cell_type": "code",
   "execution_count": null,
   "id": "198be408",
   "metadata": {},
   "outputs": [],
   "source": [
    "# [37, 19, 65, 33, 49],\n",
    "# [99, 59, 29, 28, 66]]"
   ]
  },
  {
   "cell_type": "code",
   "execution_count": null,
   "id": "40cb7a9c",
   "metadata": {},
   "outputs": [],
   "source": [
    "x[1:3]"
   ]
  },
  {
   "cell_type": "code",
   "execution_count": null,
   "id": "e1751157",
   "metadata": {},
   "outputs": [],
   "source": [
    "# [83, 70, 46]\n",
    "# [37, 19, 65]\n",
    "\n",
    "#arr[row_slicing,column slicing]\n",
    "#arr[start:stop:step_size,start:stop:step_size]"
   ]
  },
  {
   "cell_type": "code",
   "execution_count": null,
   "id": "e998873b",
   "metadata": {},
   "outputs": [],
   "source": [
    "x[0:2:1,0:3:1]"
   ]
  },
  {
   "cell_type": "code",
   "execution_count": null,
   "id": "6a135736",
   "metadata": {},
   "outputs": [],
   "source": [
    "[83, 70, 46]\n",
    "[99, 59, 29]\n"
   ]
  },
  {
   "cell_type": "code",
   "execution_count": null,
   "id": "73ea4893",
   "metadata": {},
   "outputs": [],
   "source": [
    "x[0:3:2,0:3]"
   ]
  },
  {
   "cell_type": "code",
   "execution_count": null,
   "id": "fccf272b",
   "metadata": {},
   "outputs": [],
   "source": [
    "# [46, 77, 39]\n",
    "# [29, 28, 66]"
   ]
  },
  {
   "cell_type": "code",
   "execution_count": null,
   "id": "0168ec7e",
   "metadata": {},
   "outputs": [],
   "source": [
    "x"
   ]
  },
  {
   "cell_type": "code",
   "execution_count": null,
   "id": "72f1b371",
   "metadata": {},
   "outputs": [],
   "source": [
    "x[0:3:2,2:5:1]"
   ]
  },
  {
   "cell_type": "code",
   "execution_count": null,
   "id": "4b6473ac",
   "metadata": {},
   "outputs": [],
   "source": [
    "# Indexing in 3-D"
   ]
  },
  {
   "cell_type": "code",
   "execution_count": 51,
   "id": "f59b14be",
   "metadata": {},
   "outputs": [],
   "source": [
    "np.random.seed(45)\n",
    "x=np.random.randint(10,100,36).reshape(3,4,3)"
   ]
  },
  {
   "cell_type": "code",
   "execution_count": 52,
   "id": "2a4e0b35",
   "metadata": {},
   "outputs": [
    {
     "data": {
      "text/plain": [
       "array([[[85, 40, 13],\n",
       "        [42, 71, 95],\n",
       "        [45, 78, 25],\n",
       "        [75, 24, 63]],\n",
       "\n",
       "       [[67, 82, 97],\n",
       "        [56, 18, 63],\n",
       "        [22, 44, 34],\n",
       "        [22, 27, 78]],\n",
       "\n",
       "       [[40, 66, 24],\n",
       "        [46, 41, 96],\n",
       "        [46, 67, 71],\n",
       "        [89, 27, 16]]], dtype=int32)"
      ]
     },
     "execution_count": 52,
     "metadata": {},
     "output_type": "execute_result"
    }
   ],
   "source": [
    "x"
   ]
  },
  {
   "cell_type": "code",
   "execution_count": 56,
   "id": "04d62791",
   "metadata": {
    "jupyter": {
     "source_hidden": true
    }
   },
   "outputs": [
    {
     "data": {
      "text/plain": [
       "np.int32(56)"
      ]
     },
     "execution_count": 56,
     "metadata": {},
     "output_type": "execute_result"
    }
   ],
   "source": [
    "x[1,1,0] # fetch the first array"
   ]
  },
  {
   "cell_type": "code",
   "execution_count": 57,
   "id": "297d994b-b657-4beb-a8a3-bcea0443e161",
   "metadata": {},
   "outputs": [
    {
     "data": {
      "text/plain": [
       "np.int32(96)"
      ]
     },
     "execution_count": 57,
     "metadata": {},
     "output_type": "execute_result"
    }
   ],
   "source": [
    "x[2,1,2]"
   ]
  },
  {
   "cell_type": "code",
   "execution_count": null,
   "id": "c17d535f",
   "metadata": {},
   "outputs": [],
   "source": [
    "# fetch the last array\n",
    "x[2]"
   ]
  },
  {
   "cell_type": "code",
   "execution_count": null,
   "id": "89e7e929",
   "metadata": {},
   "outputs": [],
   "source": [
    "x[-1]"
   ]
  },
  {
   "cell_type": "code",
   "execution_count": null,
   "id": "4e0aedbb",
   "metadata": {},
   "outputs": [],
   "source": [
    "# fetch  the first row of the first array\n",
    "x[0]"
   ]
  },
  {
   "cell_type": "code",
   "execution_count": null,
   "id": "74908471",
   "metadata": {},
   "outputs": [],
   "source": [
    "x[0,0] #arr[array_index,row_index]"
   ]
  },
  {
   "cell_type": "code",
   "execution_count": 58,
   "id": "e22b3d06",
   "metadata": {},
   "outputs": [
    {
     "data": {
      "text/plain": [
       "array([45, 78, 25], dtype=int32)"
      ]
     },
     "execution_count": 58,
     "metadata": {},
     "output_type": "execute_result"
    }
   ],
   "source": [
    "x[0,2]"
   ]
  },
  {
   "cell_type": "code",
   "execution_count": null,
   "id": "7348ec49",
   "metadata": {},
   "outputs": [],
   "source": [
    "x"
   ]
  },
  {
   "cell_type": "code",
   "execution_count": null,
   "id": "d3ae1759",
   "metadata": {},
   "outputs": [],
   "source": [
    "x[1,1]"
   ]
  },
  {
   "cell_type": "code",
   "execution_count": null,
   "id": "5a047c82",
   "metadata": {},
   "outputs": [],
   "source": [
    "#arr[array_index,row_index,column_index]"
   ]
  },
  {
   "cell_type": "code",
   "execution_count": null,
   "id": "39048218",
   "metadata": {},
   "outputs": [],
   "source": [
    "x[2,1,2]"
   ]
  },
  {
   "cell_type": "code",
   "execution_count": null,
   "id": "8baced4b",
   "metadata": {},
   "outputs": [],
   "source": [
    "x[1,3,2]"
   ]
  },
  {
   "cell_type": "code",
   "execution_count": null,
   "id": "e54c7a85",
   "metadata": {},
   "outputs": [],
   "source": [
    "# slicing"
   ]
  },
  {
   "cell_type": "code",
   "execution_count": null,
   "id": "fd49c640",
   "metadata": {},
   "outputs": [],
   "source": [
    "# arr[array_slicing]\n",
    "# arr[start:stop:step]"
   ]
  },
  {
   "cell_type": "code",
   "execution_count": null,
   "id": "ee97963e",
   "metadata": {
    "scrolled": true
   },
   "outputs": [],
   "source": [
    "x"
   ]
  },
  {
   "cell_type": "code",
   "execution_count": 59,
   "id": "da99bba3",
   "metadata": {},
   "outputs": [
    {
     "data": {
      "text/plain": [
       "array([[[85, 40, 13],\n",
       "        [42, 71, 95],\n",
       "        [45, 78, 25],\n",
       "        [75, 24, 63]],\n",
       "\n",
       "       [[67, 82, 97],\n",
       "        [56, 18, 63],\n",
       "        [22, 44, 34],\n",
       "        [22, 27, 78]]], dtype=int32)"
      ]
     },
     "execution_count": 59,
     "metadata": {},
     "output_type": "execute_result"
    }
   ],
   "source": [
    "x[0:3:2]"
   ]
  },
  {
   "cell_type": "code",
   "execution_count": 60,
   "id": "8844bc46-ea26-46dd-8def-bffe7297ccaf",
   "metadata": {},
   "outputs": [
    {
     "data": {
      "text/plain": [
       "array([[[85, 40, 13],\n",
       "        [42, 71, 95],\n",
       "        [45, 78, 25],\n",
       "        [75, 24, 63]],\n",
       "\n",
       "       [[67, 82, 97],\n",
       "        [56, 18, 63],\n",
       "        [22, 44, 34],\n",
       "        [22, 27, 78]],\n",
       "\n",
       "       [[40, 66, 24],\n",
       "        [46, 41, 96],\n",
       "        [46, 67, 71],\n",
       "        [89, 27, 16]]], dtype=int32)"
      ]
     },
     "execution_count": 60,
     "metadata": {},
     "output_type": "execute_result"
    }
   ],
   "source": [
    "x"
   ]
  },
  {
   "cell_type": "code",
   "execution_count": 64,
   "id": "b4586621-753f-41ee-9e13-4586b3b7d281",
   "metadata": {},
   "outputs": [
    {
     "data": {
      "text/plain": [
       "array([[[67, 82, 97],\n",
       "        [56, 18, 63]],\n",
       "\n",
       "       [[40, 66, 24],\n",
       "        [46, 41, 96]]], dtype=int32)"
      ]
     },
     "execution_count": 64,
     "metadata": {},
     "output_type": "execute_result"
    }
   ],
   "source": [
    "x[1:3,0:2]"
   ]
  },
  {
   "cell_type": "code",
   "execution_count": 70,
   "id": "72426e55-7114-4b1a-aad6-8c6aa63a4ab8",
   "metadata": {},
   "outputs": [
    {
     "data": {
      "text/plain": [
       "array([[[82],\n",
       "        [18]]], dtype=int32)"
      ]
     },
     "execution_count": 70,
     "metadata": {},
     "output_type": "execute_result"
    }
   ],
   "source": [
    "x[1:2,0:2,1:2]"
   ]
  },
  {
   "cell_type": "code",
   "execution_count": null,
   "id": "ee915c42-a880-400d-b0e8-d9193a74e372",
   "metadata": {},
   "outputs": [],
   "source": []
  },
  {
   "cell_type": "code",
   "execution_count": 61,
   "id": "94cb682f",
   "metadata": {},
   "outputs": [
    {
     "data": {
      "text/plain": [
       "array([[[85, 40, 13],\n",
       "        [42, 71, 95],\n",
       "        [45, 78, 25],\n",
       "        [75, 24, 63]],\n",
       "\n",
       "       [[40, 66, 24],\n",
       "        [46, 41, 96],\n",
       "        [46, 67, 71],\n",
       "        [89, 27, 16]]], dtype=int32)"
      ]
     },
     "execution_count": 61,
     "metadata": {},
     "output_type": "execute_result"
    }
   ],
   "source": [
    "x[0:3:2]"
   ]
  },
  {
   "cell_type": "code",
   "execution_count": 63,
   "id": "54d72330-7702-4d66-bef6-6b23c20988c3",
   "metadata": {},
   "outputs": [
    {
     "data": {
      "text/plain": [
       "array([[[85, 40, 13],\n",
       "        [42, 71, 95]],\n",
       "\n",
       "       [[67, 82, 97],\n",
       "        [56, 18, 63]],\n",
       "\n",
       "       [[40, 66, 24],\n",
       "        [46, 41, 96]]], dtype=int32)"
      ]
     },
     "execution_count": 63,
     "metadata": {},
     "output_type": "execute_result"
    }
   ],
   "source": [
    "x[0:3,0:2]"
   ]
  },
  {
   "cell_type": "code",
   "execution_count": null,
   "id": "5f5269f6",
   "metadata": {},
   "outputs": [],
   "source": [
    "x[::-1] # revers the arrays"
   ]
  },
  {
   "cell_type": "code",
   "execution_count": null,
   "id": "cf06be23",
   "metadata": {},
   "outputs": [],
   "source": [
    "# fetch the first two rows from the 2nd and the 3rd arrays\n",
    "x"
   ]
  },
  {
   "cell_type": "code",
   "execution_count": null,
   "id": "b23d6a3d",
   "metadata": {},
   "outputs": [],
   "source": [
    "#arr[array_slicing,row_slicing]\n",
    "#arr[start:stop:step,start:stop:step]\n",
    "x[1:3,0:2]"
   ]
  },
  {
   "cell_type": "code",
   "execution_count": null,
   "id": "e4b05a88",
   "metadata": {},
   "outputs": [],
   "source": [
    "x[::,0:1] # default start is 0, default stop will lenght of that array"
   ]
  },
  {
   "cell_type": "code",
   "execution_count": null,
   "id": "f7170cc7",
   "metadata": {
    "scrolled": true
   },
   "outputs": [],
   "source": [
    "# First two columns of all the arrays\n",
    "#arr[array_slicing,row_slicing,column_slicing]\n",
    "#arr[start:stop:step,start:stop:step,start:stop:step]\n",
    "x[0:3,0:4,0:2]"
   ]
  },
  {
   "cell_type": "code",
   "execution_count": 71,
   "id": "f601bc58",
   "metadata": {},
   "outputs": [
    {
     "data": {
      "text/plain": [
       "array([10, 20, 30, 40, 50, 60, 70, 80, 90])"
      ]
     },
     "execution_count": 71,
     "metadata": {},
     "output_type": "execute_result"
    }
   ],
   "source": [
    "x=np.array([10,20,30,40,50,60,70,80,90])\n",
    "x"
   ]
  },
  {
   "cell_type": "code",
   "execution_count": 72,
   "id": "3e988887",
   "metadata": {},
   "outputs": [
    {
     "data": {
      "text/plain": [
       "np.int64(450)"
      ]
     },
     "execution_count": 72,
     "metadata": {},
     "output_type": "execute_result"
    }
   ],
   "source": [
    "np.sum(x)"
   ]
  },
  {
   "cell_type": "code",
   "execution_count": 73,
   "id": "94be9db8",
   "metadata": {},
   "outputs": [
    {
     "data": {
      "text/plain": [
       "np.int64(90)"
      ]
     },
     "execution_count": 73,
     "metadata": {},
     "output_type": "execute_result"
    }
   ],
   "source": [
    "np.max(x)"
   ]
  },
  {
   "cell_type": "code",
   "execution_count": 74,
   "id": "8f8d785f",
   "metadata": {},
   "outputs": [
    {
     "data": {
      "text/plain": [
       "np.int64(10)"
      ]
     },
     "execution_count": 74,
     "metadata": {},
     "output_type": "execute_result"
    }
   ],
   "source": [
    "np.min(x)"
   ]
  },
  {
   "cell_type": "code",
   "execution_count": 75,
   "id": "537c7cd7",
   "metadata": {},
   "outputs": [
    {
     "data": {
      "text/plain": [
       "np.float64(50.0)"
      ]
     },
     "execution_count": 75,
     "metadata": {},
     "output_type": "execute_result"
    }
   ],
   "source": [
    "np.mean(x)"
   ]
  },
  {
   "cell_type": "code",
   "execution_count": 76,
   "id": "ad1d0f33",
   "metadata": {},
   "outputs": [
    {
     "data": {
      "text/plain": [
       "np.float64(50.0)"
      ]
     },
     "execution_count": 76,
     "metadata": {},
     "output_type": "execute_result"
    }
   ],
   "source": [
    "np.sum(x)/x.size"
   ]
  },
  {
   "cell_type": "code",
   "execution_count": 77,
   "id": "576cb826",
   "metadata": {},
   "outputs": [
    {
     "data": {
      "text/plain": [
       "np.float64(50.0)"
      ]
     },
     "execution_count": 77,
     "metadata": {},
     "output_type": "execute_result"
    }
   ],
   "source": [
    "np.median(x)"
   ]
  },
  {
   "cell_type": "code",
   "execution_count": null,
   "id": "d29e2c14",
   "metadata": {},
   "outputs": [],
   "source": []
  }
 ],
 "metadata": {
  "kernelspec": {
   "display_name": "Python 3 (ipykernel)",
   "language": "python",
   "name": "python3"
  },
  "language_info": {
   "codemirror_mode": {
    "name": "ipython",
    "version": 3
   },
   "file_extension": ".py",
   "mimetype": "text/x-python",
   "name": "python",
   "nbconvert_exporter": "python",
   "pygments_lexer": "ipython3",
   "version": "3.12.7"
  }
 },
 "nbformat": 4,
 "nbformat_minor": 5
}
